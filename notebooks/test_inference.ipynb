{
 "cells": [
  {
   "cell_type": "markdown",
   "id": "029a1d90-8cc7-4794-b73c-c25e71cb2404",
   "metadata": {},
   "source": [
    "#  Inference on Unseen Images using YOLOv5 Trained Model\n",
    "## Objective\n",
    "\n",
    "This notebook performs inference using the trained YOLOv5 model (`best.pt`) on a custom set of previously unseen images.\n",
    "\n",
    "The goal is to visually inspect the detection results of the model on new data, outside of the training, validation, or test sets.\n",
    "\n",
    "-  Model: YOLOv5v6.0 (`best.pt`)\n",
    "-  Image directory: `test/`\n",
    "-  Classes: `Fall-Action`, `Sit`, `Stand`\n",
    "\n"
   ]
  },
  {
   "cell_type": "code",
   "execution_count": null,
   "id": "ce5f5fd9-f3f8-42bb-b739-beb2370b2112",
   "metadata": {},
   "outputs": [
    {
     "name": "stderr",
     "output_type": "stream",
     "text": [
      "YOLOv5  v6.0-0-g956be8e6 torch 2.4.1+cpu CPU\n",
      "\n",
      "C:\\Users/dell/yolov5\\models\\experimental.py:94: FutureWarning: You are using `torch.load` with `weights_only=False` (the current default value), which uses the default pickle module implicitly. It is possible to construct malicious pickle data which will execute arbitrary code during unpickling (See https://github.com/pytorch/pytorch/blob/main/SECURITY.md#untrusted-models for more details). In a future release, the default value for `weights_only` will be flipped to `True`. This limits the functions that could be executed during unpickling. Arbitrary objects will no longer be allowed to be loaded via this mode unless they are explicitly allowlisted by the user via `torch.serialization.add_safe_globals`. We recommend you start setting `weights_only=True` for any use case where you don't have full control of the loaded file. Please open an issue on GitHub for any issues related to this experimental feature.\n",
      "  ckpt = torch.load(attempt_download(w), map_location=map_location)  # load\n",
      "Fusing layers... \n",
      "C:\\Users\\dell\\anaconda3\\envs\\bruit-profil\\lib\\site-packages\\torch\\functional.py:513: UserWarning: torch.meshgrid: in an upcoming release, it will be required to pass the indexing argument. (Triggered internally at C:\\actions-runner\\_work\\pytorch\\pytorch\\builder\\windows\\pytorch\\aten\\src\\ATen\\native\\TensorShape.cpp:3610.)\n",
      "  return _VF.meshgrid(tensors, **kwargs)  # type: ignore[attr-defined]\n",
      "Model Summary: 213 layers, 7018216 parameters, 0 gradients, 15.8 GFLOPs\n",
      "Adding AutoShape... \n",
      "C:\\Users/dell/yolov5\\models\\common.py:345: FutureWarning: `torch.cuda.amp.autocast(args...)` is deprecated. Please use `torch.amp.autocast('cuda', args...)` instead.\n",
      "  with amp.autocast(enabled=p.device.type != 'cpu'):\n"
     ]
    }
   ],
   "source": [
    "%matplotlib inline \n",
    "\n",
    "import cv2\n",
    "import os\n",
    "import torch\n",
    "import matplotlib.pyplot as plt\n",
    "from matplotlib.widgets import Button\n",
    "\n",
    "# Charger le modèle YOLOv5 localement\n",
    "model_path = r'C:/Users/dell/yolov5/models/best.pt'  # changer ce chemin \n",
    "model = torch.hub.load(r'C:/Users/dell/yolov5', 'custom', path=model_path, source='local', force_reload=True)\n",
    "model.eval()\n",
    "\n",
    "# Dossier contenant les images de test\n",
    "image_dir = r'C:\\Users\\dell\\Downloads\\test\\images'\n",
    "image_files = sorted([f for f in os.listdir(image_dir) if f.endswith(('.jpg', '.png'))])\n",
    "\n",
    "# Liste des classes détectées\n",
    "class_names = model.names\n",
    "current_idx = [0]\n",
    "\n",
    "# Interface matplotlib\n",
    "fig, ax = plt.subplots(figsize=(10, 8))\n",
    "plt.subplots_adjust(bottom=0.2)\n",
    "\n",
    "def show_image(idx):\n",
    "    img_path = os.path.join(image_dir, image_files[idx])\n",
    "    img = cv2.imread(img_path)\n",
    "    if img is None:\n",
    "        print(f\"Erreur de lecture de l'image : {img_path}\")\n",
    "        return\n",
    "    results = model(img)\n",
    "    annotated_img = results.render()[0]\n",
    "    ax.clear()\n",
    "    ax.imshow(cv2.cvtColor(annotated_img, cv2.COLOR_BGR2RGB))\n",
    "    ax.set_title(f\"Image {idx + 1}/{len(image_files)} : {image_files[idx]}\")\n",
    "    ax.axis('off')\n",
    "    fig.canvas.draw_idle()\n",
    "\n",
    "def next_img(event):\n",
    "    if current_idx[0] < len(image_files) - 1:\n",
    "        current_idx[0] += 1\n",
    "        show_image(current_idx[0])\n",
    "\n",
    "def prev_img(event):\n",
    "    if current_idx[0] > 0:\n",
    "        current_idx[0] -= 1\n",
    "        show_image(current_idx[0])\n",
    "\n",
    "# Boutons \"Précédente\" / \"Suivante\"\n",
    "axprev = plt.axes([0.3, 0.05, 0.1, 0.075])\n",
    "axnext = plt.axes([0.6, 0.05, 0.1, 0.075])\n",
    "bnext = Button(axnext, 'Suivante')\n",
    "bprev = Button(axprev, 'Précédente')\n",
    "\n",
    "bnext.on_clicked(next_img)\n",
    "bprev.on_clicked(prev_img)\n",
    "\n",
    "# Afficher la première image\n",
    "show_image(current_idx[0])\n",
    "plt.show()\n"
   ]
  },
  {
   "cell_type": "code",
   "execution_count": null,
   "id": "dc9fbfc8-4889-49a4-8314-d9d13a8d5255",
   "metadata": {},
   "outputs": [
    {
     "name": "stderr",
     "output_type": "stream",
     "text": [
      "YOLOv5  v6.0-0-g956be8e6 torch 2.4.1+cpu CPU\n",
      "\n",
      "C:\\Users/dell/yolov5\\models\\experimental.py:94: FutureWarning: You are using `torch.load` with `weights_only=False` (the current default value), which uses the default pickle module implicitly. It is possible to construct malicious pickle data which will execute arbitrary code during unpickling (See https://github.com/pytorch/pytorch/blob/main/SECURITY.md#untrusted-models for more details). In a future release, the default value for `weights_only` will be flipped to `True`. This limits the functions that could be executed during unpickling. Arbitrary objects will no longer be allowed to be loaded via this mode unless they are explicitly allowlisted by the user via `torch.serialization.add_safe_globals`. We recommend you start setting `weights_only=True` for any use case where you don't have full control of the loaded file. Please open an issue on GitHub for any issues related to this experimental feature.\n",
      "  ckpt = torch.load(attempt_download(w), map_location=map_location)  # load\n",
      "Fusing layers... \n",
      "Model Summary: 213 layers, 7018216 parameters, 0 gradients, 15.8 GFLOPs\n",
      "Adding AutoShape... \n",
      "C:\\Users/dell/yolov5\\models\\common.py:345: FutureWarning: `torch.cuda.amp.autocast(args...)` is deprecated. Please use `torch.amp.autocast('cuda', args...)` instead.\n",
      "  with amp.autocast(enabled=p.device.type != 'cpu'):\n"
     ]
    }
   ],
   "source": [
    "%matplotlib inline\n",
    "import os\n",
    "import cv2\n",
    "import torch\n",
    "import matplotlib.pyplot as plt\n",
    "\n",
    "# Charger le modèle\n",
    "model_path = r'C:/Users/dell/yolov5/models/best.pt'\n",
    "model = torch.hub.load(r'C:/Users/dell/yolov5', 'custom', path=model_path, source='local')\n",
    "model.eval()\n",
    "\n",
    "# Chemin d'une image de test\n",
    "image_dir = r'C:/Users/dell/Downloads/test/images'\n",
    "image_files = [f for f in os.listdir(image_dir) if f.endswith(('.jpg', '.png'))]\n",
    "image_path = os.path.join(image_dir, image_files[0])\n",
    "# Lire l’image\n",
    "img = cv2.imread(image_path)\n",
    "\n",
    "# Effectuer la détection\n",
    "results = model(img)\n",
    "\n",
    "# Annoter et afficher l’image\n",
    "annotated_img = results.render()[0]\n",
    "plt.figure(figsize=(10, 8))\n",
    "plt.imshow(cv2.cvtColor(annotated_img, cv2.COLOR_BGR2RGB))\n",
    "plt.axis('off')\n",
    "plt.title(\"Détection YOLOv5\")\n",
    "plt.show()\n"
   ]
  },
  {
   "cell_type": "code",
   "execution_count": 3,
   "id": "451e830d-1242-4efc-85b9-4a9f007334a3",
   "metadata": {},
   "outputs": [
    {
     "name": "stderr",
     "output_type": "stream",
     "text": [
      "YOLOv5  v6.0-0-g956be8e6 torch 2.4.1+cpu CPU\n",
      "\n",
      "C:\\Users/dell/yolov5\\models\\experimental.py:94: FutureWarning: You are using `torch.load` with `weights_only=False` (the current default value), which uses the default pickle module implicitly. It is possible to construct malicious pickle data which will execute arbitrary code during unpickling (See https://github.com/pytorch/pytorch/blob/main/SECURITY.md#untrusted-models for more details). In a future release, the default value for `weights_only` will be flipped to `True`. This limits the functions that could be executed during unpickling. Arbitrary objects will no longer be allowed to be loaded via this mode unless they are explicitly allowlisted by the user via `torch.serialization.add_safe_globals`. We recommend you start setting `weights_only=True` for any use case where you don't have full control of the loaded file. Please open an issue on GitHub for any issues related to this experimental feature.\n",
      "  ckpt = torch.load(attempt_download(w), map_location=map_location)  # load\n",
      "Fusing layers... \n",
      "Model Summary: 213 layers, 7018216 parameters, 0 gradients, 15.8 GFLOPs\n",
      "Adding AutoShape... \n",
      "C:\\Users/dell/yolov5\\models\\common.py:345: FutureWarning: `torch.cuda.amp.autocast(args...)` is deprecated. Please use `torch.amp.autocast('cuda', args...)` instead.\n",
      "  with amp.autocast(enabled=p.device.type != 'cpu'):\n",
      "C:\\Users\\dell\\AppData\\Local\\Temp\\ipykernel_5956\\1193285924.py:38: UserWarning: Matplotlib is currently using agg, which is a non-GUI backend, so cannot show the figure.\n",
      "  plt.show()\n",
      "C:\\Users/dell/yolov5\\models\\common.py:345: FutureWarning: `torch.cuda.amp.autocast(args...)` is deprecated. Please use `torch.amp.autocast('cuda', args...)` instead.\n",
      "  with amp.autocast(enabled=p.device.type != 'cpu'):\n",
      "C:\\Users\\dell\\AppData\\Local\\Temp\\ipykernel_5956\\1193285924.py:38: UserWarning: Matplotlib is currently using agg, which is a non-GUI backend, so cannot show the figure.\n",
      "  plt.show()\n",
      "C:\\Users/dell/yolov5\\models\\common.py:345: FutureWarning: `torch.cuda.amp.autocast(args...)` is deprecated. Please use `torch.amp.autocast('cuda', args...)` instead.\n",
      "  with amp.autocast(enabled=p.device.type != 'cpu'):\n",
      "C:\\Users\\dell\\AppData\\Local\\Temp\\ipykernel_5956\\1193285924.py:38: UserWarning: Matplotlib is currently using agg, which is a non-GUI backend, so cannot show the figure.\n",
      "  plt.show()\n",
      "C:\\Users/dell/yolov5\\models\\common.py:345: FutureWarning: `torch.cuda.amp.autocast(args...)` is deprecated. Please use `torch.amp.autocast('cuda', args...)` instead.\n",
      "  with amp.autocast(enabled=p.device.type != 'cpu'):\n",
      "C:\\Users\\dell\\AppData\\Local\\Temp\\ipykernel_5956\\1193285924.py:38: UserWarning: Matplotlib is currently using agg, which is a non-GUI backend, so cannot show the figure.\n",
      "  plt.show()\n",
      "C:\\Users/dell/yolov5\\models\\common.py:345: FutureWarning: `torch.cuda.amp.autocast(args...)` is deprecated. Please use `torch.amp.autocast('cuda', args...)` instead.\n",
      "  with amp.autocast(enabled=p.device.type != 'cpu'):\n",
      "C:\\Users\\dell\\AppData\\Local\\Temp\\ipykernel_5956\\1193285924.py:38: UserWarning: Matplotlib is currently using agg, which is a non-GUI backend, so cannot show the figure.\n",
      "  plt.show()\n",
      "C:\\Users/dell/yolov5\\models\\common.py:345: FutureWarning: `torch.cuda.amp.autocast(args...)` is deprecated. Please use `torch.amp.autocast('cuda', args...)` instead.\n",
      "  with amp.autocast(enabled=p.device.type != 'cpu'):\n",
      "C:\\Users\\dell\\AppData\\Local\\Temp\\ipykernel_5956\\1193285924.py:38: UserWarning: Matplotlib is currently using agg, which is a non-GUI backend, so cannot show the figure.\n",
      "  plt.show()\n",
      "C:\\Users/dell/yolov5\\models\\common.py:345: FutureWarning: `torch.cuda.amp.autocast(args...)` is deprecated. Please use `torch.amp.autocast('cuda', args...)` instead.\n",
      "  with amp.autocast(enabled=p.device.type != 'cpu'):\n",
      "C:\\Users\\dell\\AppData\\Local\\Temp\\ipykernel_5956\\1193285924.py:38: UserWarning: Matplotlib is currently using agg, which is a non-GUI backend, so cannot show the figure.\n",
      "  plt.show()\n",
      "C:\\Users/dell/yolov5\\models\\common.py:345: FutureWarning: `torch.cuda.amp.autocast(args...)` is deprecated. Please use `torch.amp.autocast('cuda', args...)` instead.\n",
      "  with amp.autocast(enabled=p.device.type != 'cpu'):\n",
      "C:\\Users\\dell\\AppData\\Local\\Temp\\ipykernel_5956\\1193285924.py:38: UserWarning: Matplotlib is currently using agg, which is a non-GUI backend, so cannot show the figure.\n",
      "  plt.show()\n",
      "C:\\Users/dell/yolov5\\models\\common.py:345: FutureWarning: `torch.cuda.amp.autocast(args...)` is deprecated. Please use `torch.amp.autocast('cuda', args...)` instead.\n",
      "  with amp.autocast(enabled=p.device.type != 'cpu'):\n",
      "C:\\Users\\dell\\AppData\\Local\\Temp\\ipykernel_5956\\1193285924.py:38: UserWarning: Matplotlib is currently using agg, which is a non-GUI backend, so cannot show the figure.\n",
      "  plt.show()\n",
      "C:\\Users/dell/yolov5\\models\\common.py:345: FutureWarning: `torch.cuda.amp.autocast(args...)` is deprecated. Please use `torch.amp.autocast('cuda', args...)` instead.\n",
      "  with amp.autocast(enabled=p.device.type != 'cpu'):\n",
      "C:\\Users\\dell\\AppData\\Local\\Temp\\ipykernel_5956\\1193285924.py:38: UserWarning: Matplotlib is currently using agg, which is a non-GUI backend, so cannot show the figure.\n",
      "  plt.show()\n",
      "C:\\Users/dell/yolov5\\models\\common.py:345: FutureWarning: `torch.cuda.amp.autocast(args...)` is deprecated. Please use `torch.amp.autocast('cuda', args...)` instead.\n",
      "  with amp.autocast(enabled=p.device.type != 'cpu'):\n",
      "C:\\Users\\dell\\AppData\\Local\\Temp\\ipykernel_5956\\1193285924.py:38: UserWarning: Matplotlib is currently using agg, which is a non-GUI backend, so cannot show the figure.\n",
      "  plt.show()\n",
      "C:\\Users/dell/yolov5\\models\\common.py:345: FutureWarning: `torch.cuda.amp.autocast(args...)` is deprecated. Please use `torch.amp.autocast('cuda', args...)` instead.\n",
      "  with amp.autocast(enabled=p.device.type != 'cpu'):\n",
      "C:\\Users\\dell\\AppData\\Local\\Temp\\ipykernel_5956\\1193285924.py:38: UserWarning: Matplotlib is currently using agg, which is a non-GUI backend, so cannot show the figure.\n",
      "  plt.show()\n",
      "C:\\Users/dell/yolov5\\models\\common.py:345: FutureWarning: `torch.cuda.amp.autocast(args...)` is deprecated. Please use `torch.amp.autocast('cuda', args...)` instead.\n",
      "  with amp.autocast(enabled=p.device.type != 'cpu'):\n",
      "C:\\Users\\dell\\AppData\\Local\\Temp\\ipykernel_5956\\1193285924.py:38: UserWarning: Matplotlib is currently using agg, which is a non-GUI backend, so cannot show the figure.\n",
      "  plt.show()\n",
      "C:\\Users/dell/yolov5\\models\\common.py:345: FutureWarning: `torch.cuda.amp.autocast(args...)` is deprecated. Please use `torch.amp.autocast('cuda', args...)` instead.\n",
      "  with amp.autocast(enabled=p.device.type != 'cpu'):\n",
      "C:\\Users\\dell\\AppData\\Local\\Temp\\ipykernel_5956\\1193285924.py:38: UserWarning: Matplotlib is currently using agg, which is a non-GUI backend, so cannot show the figure.\n",
      "  plt.show()\n",
      "C:\\Users/dell/yolov5\\models\\common.py:345: FutureWarning: `torch.cuda.amp.autocast(args...)` is deprecated. Please use `torch.amp.autocast('cuda', args...)` instead.\n",
      "  with amp.autocast(enabled=p.device.type != 'cpu'):\n",
      "C:\\Users\\dell\\AppData\\Local\\Temp\\ipykernel_5956\\1193285924.py:38: UserWarning: Matplotlib is currently using agg, which is a non-GUI backend, so cannot show the figure.\n",
      "  plt.show()\n",
      "C:\\Users/dell/yolov5\\models\\common.py:345: FutureWarning: `torch.cuda.amp.autocast(args...)` is deprecated. Please use `torch.amp.autocast('cuda', args...)` instead.\n",
      "  with amp.autocast(enabled=p.device.type != 'cpu'):\n",
      "C:\\Users\\dell\\AppData\\Local\\Temp\\ipykernel_5956\\1193285924.py:38: UserWarning: Matplotlib is currently using agg, which is a non-GUI backend, so cannot show the figure.\n",
      "  plt.show()\n",
      "C:\\Users/dell/yolov5\\models\\common.py:345: FutureWarning: `torch.cuda.amp.autocast(args...)` is deprecated. Please use `torch.amp.autocast('cuda', args...)` instead.\n",
      "  with amp.autocast(enabled=p.device.type != 'cpu'):\n",
      "C:\\Users\\dell\\AppData\\Local\\Temp\\ipykernel_5956\\1193285924.py:38: UserWarning: Matplotlib is currently using agg, which is a non-GUI backend, so cannot show the figure.\n",
      "  plt.show()\n",
      "C:\\Users/dell/yolov5\\models\\common.py:345: FutureWarning: `torch.cuda.amp.autocast(args...)` is deprecated. Please use `torch.amp.autocast('cuda', args...)` instead.\n",
      "  with amp.autocast(enabled=p.device.type != 'cpu'):\n",
      "C:\\Users\\dell\\AppData\\Local\\Temp\\ipykernel_5956\\1193285924.py:38: UserWarning: Matplotlib is currently using agg, which is a non-GUI backend, so cannot show the figure.\n",
      "  plt.show()\n",
      "C:\\Users/dell/yolov5\\models\\common.py:345: FutureWarning: `torch.cuda.amp.autocast(args...)` is deprecated. Please use `torch.amp.autocast('cuda', args...)` instead.\n",
      "  with amp.autocast(enabled=p.device.type != 'cpu'):\n",
      "C:\\Users\\dell\\AppData\\Local\\Temp\\ipykernel_5956\\1193285924.py:38: UserWarning: Matplotlib is currently using agg, which is a non-GUI backend, so cannot show the figure.\n",
      "  plt.show()\n",
      "C:\\Users/dell/yolov5\\models\\common.py:345: FutureWarning: `torch.cuda.amp.autocast(args...)` is deprecated. Please use `torch.amp.autocast('cuda', args...)` instead.\n",
      "  with amp.autocast(enabled=p.device.type != 'cpu'):\n",
      "C:\\Users\\dell\\AppData\\Local\\Temp\\ipykernel_5956\\1193285924.py:38: UserWarning: Matplotlib is currently using agg, which is a non-GUI backend, so cannot show the figure.\n",
      "  plt.show()\n",
      "C:\\Users/dell/yolov5\\models\\common.py:345: FutureWarning: `torch.cuda.amp.autocast(args...)` is deprecated. Please use `torch.amp.autocast('cuda', args...)` instead.\n",
      "  with amp.autocast(enabled=p.device.type != 'cpu'):\n",
      "C:\\Users\\dell\\AppData\\Local\\Temp\\ipykernel_5956\\1193285924.py:38: UserWarning: Matplotlib is currently using agg, which is a non-GUI backend, so cannot show the figure.\n",
      "  plt.show()\n",
      "C:\\Users/dell/yolov5\\models\\common.py:345: FutureWarning: `torch.cuda.amp.autocast(args...)` is deprecated. Please use `torch.amp.autocast('cuda', args...)` instead.\n",
      "  with amp.autocast(enabled=p.device.type != 'cpu'):\n",
      "C:\\Users\\dell\\AppData\\Local\\Temp\\ipykernel_5956\\1193285924.py:38: UserWarning: Matplotlib is currently using agg, which is a non-GUI backend, so cannot show the figure.\n",
      "  plt.show()\n",
      "C:\\Users/dell/yolov5\\models\\common.py:345: FutureWarning: `torch.cuda.amp.autocast(args...)` is deprecated. Please use `torch.amp.autocast('cuda', args...)` instead.\n",
      "  with amp.autocast(enabled=p.device.type != 'cpu'):\n",
      "C:\\Users\\dell\\AppData\\Local\\Temp\\ipykernel_5956\\1193285924.py:38: UserWarning: Matplotlib is currently using agg, which is a non-GUI backend, so cannot show the figure.\n",
      "  plt.show()\n",
      "C:\\Users/dell/yolov5\\models\\common.py:345: FutureWarning: `torch.cuda.amp.autocast(args...)` is deprecated. Please use `torch.amp.autocast('cuda', args...)` instead.\n",
      "  with amp.autocast(enabled=p.device.type != 'cpu'):\n",
      "C:\\Users\\dell\\AppData\\Local\\Temp\\ipykernel_5956\\1193285924.py:38: UserWarning: Matplotlib is currently using agg, which is a non-GUI backend, so cannot show the figure.\n",
      "  plt.show()\n",
      "C:\\Users/dell/yolov5\\models\\common.py:345: FutureWarning: `torch.cuda.amp.autocast(args...)` is deprecated. Please use `torch.amp.autocast('cuda', args...)` instead.\n",
      "  with amp.autocast(enabled=p.device.type != 'cpu'):\n",
      "C:\\Users\\dell\\AppData\\Local\\Temp\\ipykernel_5956\\1193285924.py:38: UserWarning: Matplotlib is currently using agg, which is a non-GUI backend, so cannot show the figure.\n",
      "  plt.show()\n",
      "C:\\Users/dell/yolov5\\models\\common.py:345: FutureWarning: `torch.cuda.amp.autocast(args...)` is deprecated. Please use `torch.amp.autocast('cuda', args...)` instead.\n",
      "  with amp.autocast(enabled=p.device.type != 'cpu'):\n",
      "C:\\Users\\dell\\AppData\\Local\\Temp\\ipykernel_5956\\1193285924.py:38: UserWarning: Matplotlib is currently using agg, which is a non-GUI backend, so cannot show the figure.\n",
      "  plt.show()\n",
      "C:\\Users/dell/yolov5\\models\\common.py:345: FutureWarning: `torch.cuda.amp.autocast(args...)` is deprecated. Please use `torch.amp.autocast('cuda', args...)` instead.\n",
      "  with amp.autocast(enabled=p.device.type != 'cpu'):\n",
      "C:\\Users\\dell\\AppData\\Local\\Temp\\ipykernel_5956\\1193285924.py:38: UserWarning: Matplotlib is currently using agg, which is a non-GUI backend, so cannot show the figure.\n",
      "  plt.show()\n",
      "C:\\Users/dell/yolov5\\models\\common.py:345: FutureWarning: `torch.cuda.amp.autocast(args...)` is deprecated. Please use `torch.amp.autocast('cuda', args...)` instead.\n",
      "  with amp.autocast(enabled=p.device.type != 'cpu'):\n",
      "C:\\Users\\dell\\AppData\\Local\\Temp\\ipykernel_5956\\1193285924.py:38: UserWarning: Matplotlib is currently using agg, which is a non-GUI backend, so cannot show the figure.\n",
      "  plt.show()\n",
      "C:\\Users/dell/yolov5\\models\\common.py:345: FutureWarning: `torch.cuda.amp.autocast(args...)` is deprecated. Please use `torch.amp.autocast('cuda', args...)` instead.\n",
      "  with amp.autocast(enabled=p.device.type != 'cpu'):\n",
      "C:\\Users\\dell\\AppData\\Local\\Temp\\ipykernel_5956\\1193285924.py:38: UserWarning: Matplotlib is currently using agg, which is a non-GUI backend, so cannot show the figure.\n",
      "  plt.show()\n",
      "C:\\Users/dell/yolov5\\models\\common.py:345: FutureWarning: `torch.cuda.amp.autocast(args...)` is deprecated. Please use `torch.amp.autocast('cuda', args...)` instead.\n",
      "  with amp.autocast(enabled=p.device.type != 'cpu'):\n",
      "C:\\Users\\dell\\AppData\\Local\\Temp\\ipykernel_5956\\1193285924.py:38: UserWarning: Matplotlib is currently using agg, which is a non-GUI backend, so cannot show the figure.\n",
      "  plt.show()\n",
      "C:\\Users/dell/yolov5\\models\\common.py:345: FutureWarning: `torch.cuda.amp.autocast(args...)` is deprecated. Please use `torch.amp.autocast('cuda', args...)` instead.\n",
      "  with amp.autocast(enabled=p.device.type != 'cpu'):\n",
      "C:\\Users\\dell\\AppData\\Local\\Temp\\ipykernel_5956\\1193285924.py:38: UserWarning: Matplotlib is currently using agg, which is a non-GUI backend, so cannot show the figure.\n",
      "  plt.show()\n",
      "C:\\Users/dell/yolov5\\models\\common.py:345: FutureWarning: `torch.cuda.amp.autocast(args...)` is deprecated. Please use `torch.amp.autocast('cuda', args...)` instead.\n",
      "  with amp.autocast(enabled=p.device.type != 'cpu'):\n",
      "C:\\Users\\dell\\AppData\\Local\\Temp\\ipykernel_5956\\1193285924.py:38: UserWarning: Matplotlib is currently using agg, which is a non-GUI backend, so cannot show the figure.\n",
      "  plt.show()\n",
      "C:\\Users/dell/yolov5\\models\\common.py:345: FutureWarning: `torch.cuda.amp.autocast(args...)` is deprecated. Please use `torch.amp.autocast('cuda', args...)` instead.\n",
      "  with amp.autocast(enabled=p.device.type != 'cpu'):\n",
      "C:\\Users\\dell\\AppData\\Local\\Temp\\ipykernel_5956\\1193285924.py:38: UserWarning: Matplotlib is currently using agg, which is a non-GUI backend, so cannot show the figure.\n",
      "  plt.show()\n",
      "C:\\Users/dell/yolov5\\models\\common.py:345: FutureWarning: `torch.cuda.amp.autocast(args...)` is deprecated. Please use `torch.amp.autocast('cuda', args...)` instead.\n",
      "  with amp.autocast(enabled=p.device.type != 'cpu'):\n",
      "C:\\Users\\dell\\AppData\\Local\\Temp\\ipykernel_5956\\1193285924.py:38: UserWarning: Matplotlib is currently using agg, which is a non-GUI backend, so cannot show the figure.\n",
      "  plt.show()\n",
      "C:\\Users/dell/yolov5\\models\\common.py:345: FutureWarning: `torch.cuda.amp.autocast(args...)` is deprecated. Please use `torch.amp.autocast('cuda', args...)` instead.\n",
      "  with amp.autocast(enabled=p.device.type != 'cpu'):\n",
      "C:\\Users\\dell\\AppData\\Local\\Temp\\ipykernel_5956\\1193285924.py:38: UserWarning: Matplotlib is currently using agg, which is a non-GUI backend, so cannot show the figure.\n",
      "  plt.show()\n",
      "C:\\Users/dell/yolov5\\models\\common.py:345: FutureWarning: `torch.cuda.amp.autocast(args...)` is deprecated. Please use `torch.amp.autocast('cuda', args...)` instead.\n",
      "  with amp.autocast(enabled=p.device.type != 'cpu'):\n",
      "C:\\Users\\dell\\AppData\\Local\\Temp\\ipykernel_5956\\1193285924.py:38: UserWarning: Matplotlib is currently using agg, which is a non-GUI backend, so cannot show the figure.\n",
      "  plt.show()\n",
      "C:\\Users/dell/yolov5\\models\\common.py:345: FutureWarning: `torch.cuda.amp.autocast(args...)` is deprecated. Please use `torch.amp.autocast('cuda', args...)` instead.\n",
      "  with amp.autocast(enabled=p.device.type != 'cpu'):\n",
      "C:\\Users\\dell\\AppData\\Local\\Temp\\ipykernel_5956\\1193285924.py:38: UserWarning: Matplotlib is currently using agg, which is a non-GUI backend, so cannot show the figure.\n",
      "  plt.show()\n",
      "C:\\Users/dell/yolov5\\models\\common.py:345: FutureWarning: `torch.cuda.amp.autocast(args...)` is deprecated. Please use `torch.amp.autocast('cuda', args...)` instead.\n",
      "  with amp.autocast(enabled=p.device.type != 'cpu'):\n",
      "C:\\Users\\dell\\AppData\\Local\\Temp\\ipykernel_5956\\1193285924.py:38: UserWarning: Matplotlib is currently using agg, which is a non-GUI backend, so cannot show the figure.\n",
      "  plt.show()\n",
      "C:\\Users/dell/yolov5\\models\\common.py:345: FutureWarning: `torch.cuda.amp.autocast(args...)` is deprecated. Please use `torch.amp.autocast('cuda', args...)` instead.\n",
      "  with amp.autocast(enabled=p.device.type != 'cpu'):\n",
      "C:\\Users\\dell\\AppData\\Local\\Temp\\ipykernel_5956\\1193285924.py:38: UserWarning: Matplotlib is currently using agg, which is a non-GUI backend, so cannot show the figure.\n",
      "  plt.show()\n",
      "C:\\Users/dell/yolov5\\models\\common.py:345: FutureWarning: `torch.cuda.amp.autocast(args...)` is deprecated. Please use `torch.amp.autocast('cuda', args...)` instead.\n",
      "  with amp.autocast(enabled=p.device.type != 'cpu'):\n",
      "C:\\Users\\dell\\AppData\\Local\\Temp\\ipykernel_5956\\1193285924.py:38: UserWarning: Matplotlib is currently using agg, which is a non-GUI backend, so cannot show the figure.\n",
      "  plt.show()\n",
      "C:\\Users/dell/yolov5\\models\\common.py:345: FutureWarning: `torch.cuda.amp.autocast(args...)` is deprecated. Please use `torch.amp.autocast('cuda', args...)` instead.\n",
      "  with amp.autocast(enabled=p.device.type != 'cpu'):\n",
      "C:\\Users\\dell\\AppData\\Local\\Temp\\ipykernel_5956\\1193285924.py:38: UserWarning: Matplotlib is currently using agg, which is a non-GUI backend, so cannot show the figure.\n",
      "  plt.show()\n",
      "C:\\Users/dell/yolov5\\models\\common.py:345: FutureWarning: `torch.cuda.amp.autocast(args...)` is deprecated. Please use `torch.amp.autocast('cuda', args...)` instead.\n",
      "  with amp.autocast(enabled=p.device.type != 'cpu'):\n",
      "C:\\Users\\dell\\AppData\\Local\\Temp\\ipykernel_5956\\1193285924.py:38: UserWarning: Matplotlib is currently using agg, which is a non-GUI backend, so cannot show the figure.\n",
      "  plt.show()\n",
      "C:\\Users/dell/yolov5\\models\\common.py:345: FutureWarning: `torch.cuda.amp.autocast(args...)` is deprecated. Please use `torch.amp.autocast('cuda', args...)` instead.\n",
      "  with amp.autocast(enabled=p.device.type != 'cpu'):\n",
      "C:\\Users\\dell\\AppData\\Local\\Temp\\ipykernel_5956\\1193285924.py:38: UserWarning: Matplotlib is currently using agg, which is a non-GUI backend, so cannot show the figure.\n",
      "  plt.show()\n",
      "C:\\Users/dell/yolov5\\models\\common.py:345: FutureWarning: `torch.cuda.amp.autocast(args...)` is deprecated. Please use `torch.amp.autocast('cuda', args...)` instead.\n",
      "  with amp.autocast(enabled=p.device.type != 'cpu'):\n",
      "C:\\Users\\dell\\AppData\\Local\\Temp\\ipykernel_5956\\1193285924.py:38: UserWarning: Matplotlib is currently using agg, which is a non-GUI backend, so cannot show the figure.\n",
      "  plt.show()\n",
      "C:\\Users/dell/yolov5\\models\\common.py:345: FutureWarning: `torch.cuda.amp.autocast(args...)` is deprecated. Please use `torch.amp.autocast('cuda', args...)` instead.\n",
      "  with amp.autocast(enabled=p.device.type != 'cpu'):\n",
      "C:\\Users\\dell\\AppData\\Local\\Temp\\ipykernel_5956\\1193285924.py:38: UserWarning: Matplotlib is currently using agg, which is a non-GUI backend, so cannot show the figure.\n",
      "  plt.show()\n",
      "C:\\Users/dell/yolov5\\models\\common.py:345: FutureWarning: `torch.cuda.amp.autocast(args...)` is deprecated. Please use `torch.amp.autocast('cuda', args...)` instead.\n",
      "  with amp.autocast(enabled=p.device.type != 'cpu'):\n",
      "C:\\Users\\dell\\AppData\\Local\\Temp\\ipykernel_5956\\1193285924.py:38: UserWarning: Matplotlib is currently using agg, which is a non-GUI backend, so cannot show the figure.\n",
      "  plt.show()\n",
      "C:\\Users/dell/yolov5\\models\\common.py:345: FutureWarning: `torch.cuda.amp.autocast(args...)` is deprecated. Please use `torch.amp.autocast('cuda', args...)` instead.\n",
      "  with amp.autocast(enabled=p.device.type != 'cpu'):\n",
      "C:\\Users\\dell\\AppData\\Local\\Temp\\ipykernel_5956\\1193285924.py:38: UserWarning: Matplotlib is currently using agg, which is a non-GUI backend, so cannot show the figure.\n",
      "  plt.show()\n",
      "C:\\Users/dell/yolov5\\models\\common.py:345: FutureWarning: `torch.cuda.amp.autocast(args...)` is deprecated. Please use `torch.amp.autocast('cuda', args...)` instead.\n",
      "  with amp.autocast(enabled=p.device.type != 'cpu'):\n",
      "C:\\Users\\dell\\AppData\\Local\\Temp\\ipykernel_5956\\1193285924.py:38: UserWarning: Matplotlib is currently using agg, which is a non-GUI backend, so cannot show the figure.\n",
      "  plt.show()\n",
      "C:\\Users/dell/yolov5\\models\\common.py:345: FutureWarning: `torch.cuda.amp.autocast(args...)` is deprecated. Please use `torch.amp.autocast('cuda', args...)` instead.\n",
      "  with amp.autocast(enabled=p.device.type != 'cpu'):\n",
      "C:\\Users\\dell\\AppData\\Local\\Temp\\ipykernel_5956\\1193285924.py:38: UserWarning: Matplotlib is currently using agg, which is a non-GUI backend, so cannot show the figure.\n",
      "  plt.show()\n",
      "C:\\Users/dell/yolov5\\models\\common.py:345: FutureWarning: `torch.cuda.amp.autocast(args...)` is deprecated. Please use `torch.amp.autocast('cuda', args...)` instead.\n",
      "  with amp.autocast(enabled=p.device.type != 'cpu'):\n",
      "C:\\Users\\dell\\AppData\\Local\\Temp\\ipykernel_5956\\1193285924.py:38: UserWarning: Matplotlib is currently using agg, which is a non-GUI backend, so cannot show the figure.\n",
      "  plt.show()\n",
      "C:\\Users/dell/yolov5\\models\\common.py:345: FutureWarning: `torch.cuda.amp.autocast(args...)` is deprecated. Please use `torch.amp.autocast('cuda', args...)` instead.\n",
      "  with amp.autocast(enabled=p.device.type != 'cpu'):\n",
      "C:\\Users\\dell\\AppData\\Local\\Temp\\ipykernel_5956\\1193285924.py:38: UserWarning: Matplotlib is currently using agg, which is a non-GUI backend, so cannot show the figure.\n",
      "  plt.show()\n",
      "C:\\Users/dell/yolov5\\models\\common.py:345: FutureWarning: `torch.cuda.amp.autocast(args...)` is deprecated. Please use `torch.amp.autocast('cuda', args...)` instead.\n",
      "  with amp.autocast(enabled=p.device.type != 'cpu'):\n",
      "C:\\Users\\dell\\AppData\\Local\\Temp\\ipykernel_5956\\1193285924.py:38: UserWarning: Matplotlib is currently using agg, which is a non-GUI backend, so cannot show the figure.\n",
      "  plt.show()\n",
      "C:\\Users/dell/yolov5\\models\\common.py:345: FutureWarning: `torch.cuda.amp.autocast(args...)` is deprecated. Please use `torch.amp.autocast('cuda', args...)` instead.\n",
      "  with amp.autocast(enabled=p.device.type != 'cpu'):\n",
      "C:\\Users\\dell\\AppData\\Local\\Temp\\ipykernel_5956\\1193285924.py:38: UserWarning: Matplotlib is currently using agg, which is a non-GUI backend, so cannot show the figure.\n",
      "  plt.show()\n",
      "C:\\Users/dell/yolov5\\models\\common.py:345: FutureWarning: `torch.cuda.amp.autocast(args...)` is deprecated. Please use `torch.amp.autocast('cuda', args...)` instead.\n",
      "  with amp.autocast(enabled=p.device.type != 'cpu'):\n",
      "C:\\Users\\dell\\AppData\\Local\\Temp\\ipykernel_5956\\1193285924.py:38: UserWarning: Matplotlib is currently using agg, which is a non-GUI backend, so cannot show the figure.\n",
      "  plt.show()\n",
      "C:\\Users/dell/yolov5\\models\\common.py:345: FutureWarning: `torch.cuda.amp.autocast(args...)` is deprecated. Please use `torch.amp.autocast('cuda', args...)` instead.\n",
      "  with amp.autocast(enabled=p.device.type != 'cpu'):\n",
      "C:\\Users\\dell\\AppData\\Local\\Temp\\ipykernel_5956\\1193285924.py:38: UserWarning: Matplotlib is currently using agg, which is a non-GUI backend, so cannot show the figure.\n",
      "  plt.show()\n",
      "C:\\Users/dell/yolov5\\models\\common.py:345: FutureWarning: `torch.cuda.amp.autocast(args...)` is deprecated. Please use `torch.amp.autocast('cuda', args...)` instead.\n",
      "  with amp.autocast(enabled=p.device.type != 'cpu'):\n",
      "C:\\Users\\dell\\AppData\\Local\\Temp\\ipykernel_5956\\1193285924.py:38: UserWarning: Matplotlib is currently using agg, which is a non-GUI backend, so cannot show the figure.\n",
      "  plt.show()\n",
      "C:\\Users/dell/yolov5\\models\\common.py:345: FutureWarning: `torch.cuda.amp.autocast(args...)` is deprecated. Please use `torch.amp.autocast('cuda', args...)` instead.\n",
      "  with amp.autocast(enabled=p.device.type != 'cpu'):\n",
      "C:\\Users\\dell\\AppData\\Local\\Temp\\ipykernel_5956\\1193285924.py:38: UserWarning: Matplotlib is currently using agg, which is a non-GUI backend, so cannot show the figure.\n",
      "  plt.show()\n",
      "C:\\Users/dell/yolov5\\models\\common.py:345: FutureWarning: `torch.cuda.amp.autocast(args...)` is deprecated. Please use `torch.amp.autocast('cuda', args...)` instead.\n",
      "  with amp.autocast(enabled=p.device.type != 'cpu'):\n",
      "C:\\Users\\dell\\AppData\\Local\\Temp\\ipykernel_5956\\1193285924.py:38: UserWarning: Matplotlib is currently using agg, which is a non-GUI backend, so cannot show the figure.\n",
      "  plt.show()\n",
      "C:\\Users/dell/yolov5\\models\\common.py:345: FutureWarning: `torch.cuda.amp.autocast(args...)` is deprecated. Please use `torch.amp.autocast('cuda', args...)` instead.\n",
      "  with amp.autocast(enabled=p.device.type != 'cpu'):\n",
      "C:\\Users\\dell\\AppData\\Local\\Temp\\ipykernel_5956\\1193285924.py:38: UserWarning: Matplotlib is currently using agg, which is a non-GUI backend, so cannot show the figure.\n",
      "  plt.show()\n",
      "C:\\Users/dell/yolov5\\models\\common.py:345: FutureWarning: `torch.cuda.amp.autocast(args...)` is deprecated. Please use `torch.amp.autocast('cuda', args...)` instead.\n",
      "  with amp.autocast(enabled=p.device.type != 'cpu'):\n",
      "C:\\Users\\dell\\AppData\\Local\\Temp\\ipykernel_5956\\1193285924.py:38: UserWarning: Matplotlib is currently using agg, which is a non-GUI backend, so cannot show the figure.\n",
      "  plt.show()\n",
      "C:\\Users/dell/yolov5\\models\\common.py:345: FutureWarning: `torch.cuda.amp.autocast(args...)` is deprecated. Please use `torch.amp.autocast('cuda', args...)` instead.\n",
      "  with amp.autocast(enabled=p.device.type != 'cpu'):\n",
      "C:\\Users\\dell\\AppData\\Local\\Temp\\ipykernel_5956\\1193285924.py:38: UserWarning: Matplotlib is currently using agg, which is a non-GUI backend, so cannot show the figure.\n",
      "  plt.show()\n",
      "C:\\Users/dell/yolov5\\models\\common.py:345: FutureWarning: `torch.cuda.amp.autocast(args...)` is deprecated. Please use `torch.amp.autocast('cuda', args...)` instead.\n",
      "  with amp.autocast(enabled=p.device.type != 'cpu'):\n",
      "C:\\Users\\dell\\AppData\\Local\\Temp\\ipykernel_5956\\1193285924.py:38: UserWarning: Matplotlib is currently using agg, which is a non-GUI backend, so cannot show the figure.\n",
      "  plt.show()\n",
      "C:\\Users/dell/yolov5\\models\\common.py:345: FutureWarning: `torch.cuda.amp.autocast(args...)` is deprecated. Please use `torch.amp.autocast('cuda', args...)` instead.\n",
      "  with amp.autocast(enabled=p.device.type != 'cpu'):\n",
      "C:\\Users\\dell\\AppData\\Local\\Temp\\ipykernel_5956\\1193285924.py:38: UserWarning: Matplotlib is currently using agg, which is a non-GUI backend, so cannot show the figure.\n",
      "  plt.show()\n",
      "C:\\Users/dell/yolov5\\models\\common.py:345: FutureWarning: `torch.cuda.amp.autocast(args...)` is deprecated. Please use `torch.amp.autocast('cuda', args...)` instead.\n",
      "  with amp.autocast(enabled=p.device.type != 'cpu'):\n",
      "C:\\Users\\dell\\AppData\\Local\\Temp\\ipykernel_5956\\1193285924.py:38: UserWarning: Matplotlib is currently using agg, which is a non-GUI backend, so cannot show the figure.\n",
      "  plt.show()\n",
      "C:\\Users/dell/yolov5\\models\\common.py:345: FutureWarning: `torch.cuda.amp.autocast(args...)` is deprecated. Please use `torch.amp.autocast('cuda', args...)` instead.\n",
      "  with amp.autocast(enabled=p.device.type != 'cpu'):\n",
      "C:\\Users\\dell\\AppData\\Local\\Temp\\ipykernel_5956\\1193285924.py:38: UserWarning: Matplotlib is currently using agg, which is a non-GUI backend, so cannot show the figure.\n",
      "  plt.show()\n",
      "C:\\Users/dell/yolov5\\models\\common.py:345: FutureWarning: `torch.cuda.amp.autocast(args...)` is deprecated. Please use `torch.amp.autocast('cuda', args...)` instead.\n",
      "  with amp.autocast(enabled=p.device.type != 'cpu'):\n",
      "C:\\Users\\dell\\AppData\\Local\\Temp\\ipykernel_5956\\1193285924.py:38: UserWarning: Matplotlib is currently using agg, which is a non-GUI backend, so cannot show the figure.\n",
      "  plt.show()\n",
      "C:\\Users/dell/yolov5\\models\\common.py:345: FutureWarning: `torch.cuda.amp.autocast(args...)` is deprecated. Please use `torch.amp.autocast('cuda', args...)` instead.\n",
      "  with amp.autocast(enabled=p.device.type != 'cpu'):\n",
      "C:\\Users\\dell\\AppData\\Local\\Temp\\ipykernel_5956\\1193285924.py:38: UserWarning: Matplotlib is currently using agg, which is a non-GUI backend, so cannot show the figure.\n",
      "  plt.show()\n",
      "C:\\Users/dell/yolov5\\models\\common.py:345: FutureWarning: `torch.cuda.amp.autocast(args...)` is deprecated. Please use `torch.amp.autocast('cuda', args...)` instead.\n",
      "  with amp.autocast(enabled=p.device.type != 'cpu'):\n",
      "C:\\Users\\dell\\AppData\\Local\\Temp\\ipykernel_5956\\1193285924.py:38: UserWarning: Matplotlib is currently using agg, which is a non-GUI backend, so cannot show the figure.\n",
      "  plt.show()\n",
      "C:\\Users/dell/yolov5\\models\\common.py:345: FutureWarning: `torch.cuda.amp.autocast(args...)` is deprecated. Please use `torch.amp.autocast('cuda', args...)` instead.\n",
      "  with amp.autocast(enabled=p.device.type != 'cpu'):\n",
      "C:\\Users\\dell\\AppData\\Local\\Temp\\ipykernel_5956\\1193285924.py:38: UserWarning: Matplotlib is currently using agg, which is a non-GUI backend, so cannot show the figure.\n",
      "  plt.show()\n",
      "C:\\Users/dell/yolov5\\models\\common.py:345: FutureWarning: `torch.cuda.amp.autocast(args...)` is deprecated. Please use `torch.amp.autocast('cuda', args...)` instead.\n",
      "  with amp.autocast(enabled=p.device.type != 'cpu'):\n",
      "C:\\Users\\dell\\AppData\\Local\\Temp\\ipykernel_5956\\1193285924.py:38: UserWarning: Matplotlib is currently using agg, which is a non-GUI backend, so cannot show the figure.\n",
      "  plt.show()\n",
      "C:\\Users/dell/yolov5\\models\\common.py:345: FutureWarning: `torch.cuda.amp.autocast(args...)` is deprecated. Please use `torch.amp.autocast('cuda', args...)` instead.\n",
      "  with amp.autocast(enabled=p.device.type != 'cpu'):\n",
      "C:\\Users\\dell\\AppData\\Local\\Temp\\ipykernel_5956\\1193285924.py:38: UserWarning: Matplotlib is currently using agg, which is a non-GUI backend, so cannot show the figure.\n",
      "  plt.show()\n",
      "C:\\Users/dell/yolov5\\models\\common.py:345: FutureWarning: `torch.cuda.amp.autocast(args...)` is deprecated. Please use `torch.amp.autocast('cuda', args...)` instead.\n",
      "  with amp.autocast(enabled=p.device.type != 'cpu'):\n",
      "C:\\Users\\dell\\AppData\\Local\\Temp\\ipykernel_5956\\1193285924.py:38: UserWarning: Matplotlib is currently using agg, which is a non-GUI backend, so cannot show the figure.\n",
      "  plt.show()\n",
      "C:\\Users/dell/yolov5\\models\\common.py:345: FutureWarning: `torch.cuda.amp.autocast(args...)` is deprecated. Please use `torch.amp.autocast('cuda', args...)` instead.\n",
      "  with amp.autocast(enabled=p.device.type != 'cpu'):\n",
      "C:\\Users\\dell\\AppData\\Local\\Temp\\ipykernel_5956\\1193285924.py:38: UserWarning: Matplotlib is currently using agg, which is a non-GUI backend, so cannot show the figure.\n",
      "  plt.show()\n",
      "C:\\Users/dell/yolov5\\models\\common.py:345: FutureWarning: `torch.cuda.amp.autocast(args...)` is deprecated. Please use `torch.amp.autocast('cuda', args...)` instead.\n",
      "  with amp.autocast(enabled=p.device.type != 'cpu'):\n",
      "C:\\Users\\dell\\AppData\\Local\\Temp\\ipykernel_5956\\1193285924.py:38: UserWarning: Matplotlib is currently using agg, which is a non-GUI backend, so cannot show the figure.\n",
      "  plt.show()\n",
      "C:\\Users/dell/yolov5\\models\\common.py:345: FutureWarning: `torch.cuda.amp.autocast(args...)` is deprecated. Please use `torch.amp.autocast('cuda', args...)` instead.\n",
      "  with amp.autocast(enabled=p.device.type != 'cpu'):\n",
      "C:\\Users\\dell\\AppData\\Local\\Temp\\ipykernel_5956\\1193285924.py:38: UserWarning: Matplotlib is currently using agg, which is a non-GUI backend, so cannot show the figure.\n",
      "  plt.show()\n",
      "C:\\Users/dell/yolov5\\models\\common.py:345: FutureWarning: `torch.cuda.amp.autocast(args...)` is deprecated. Please use `torch.amp.autocast('cuda', args...)` instead.\n",
      "  with amp.autocast(enabled=p.device.type != 'cpu'):\n",
      "C:\\Users\\dell\\AppData\\Local\\Temp\\ipykernel_5956\\1193285924.py:38: UserWarning: Matplotlib is currently using agg, which is a non-GUI backend, so cannot show the figure.\n",
      "  plt.show()\n",
      "C:\\Users/dell/yolov5\\models\\common.py:345: FutureWarning: `torch.cuda.amp.autocast(args...)` is deprecated. Please use `torch.amp.autocast('cuda', args...)` instead.\n",
      "  with amp.autocast(enabled=p.device.type != 'cpu'):\n",
      "C:\\Users\\dell\\AppData\\Local\\Temp\\ipykernel_5956\\1193285924.py:38: UserWarning: Matplotlib is currently using agg, which is a non-GUI backend, so cannot show the figure.\n",
      "  plt.show()\n",
      "C:\\Users/dell/yolov5\\models\\common.py:345: FutureWarning: `torch.cuda.amp.autocast(args...)` is deprecated. Please use `torch.amp.autocast('cuda', args...)` instead.\n",
      "  with amp.autocast(enabled=p.device.type != 'cpu'):\n",
      "C:\\Users\\dell\\AppData\\Local\\Temp\\ipykernel_5956\\1193285924.py:38: UserWarning: Matplotlib is currently using agg, which is a non-GUI backend, so cannot show the figure.\n",
      "  plt.show()\n",
      "C:\\Users/dell/yolov5\\models\\common.py:345: FutureWarning: `torch.cuda.amp.autocast(args...)` is deprecated. Please use `torch.amp.autocast('cuda', args...)` instead.\n",
      "  with amp.autocast(enabled=p.device.type != 'cpu'):\n",
      "C:\\Users\\dell\\AppData\\Local\\Temp\\ipykernel_5956\\1193285924.py:38: UserWarning: Matplotlib is currently using agg, which is a non-GUI backend, so cannot show the figure.\n",
      "  plt.show()\n",
      "C:\\Users/dell/yolov5\\models\\common.py:345: FutureWarning: `torch.cuda.amp.autocast(args...)` is deprecated. Please use `torch.amp.autocast('cuda', args...)` instead.\n",
      "  with amp.autocast(enabled=p.device.type != 'cpu'):\n",
      "C:\\Users\\dell\\AppData\\Local\\Temp\\ipykernel_5956\\1193285924.py:38: UserWarning: Matplotlib is currently using agg, which is a non-GUI backend, so cannot show the figure.\n",
      "  plt.show()\n",
      "C:\\Users/dell/yolov5\\models\\common.py:345: FutureWarning: `torch.cuda.amp.autocast(args...)` is deprecated. Please use `torch.amp.autocast('cuda', args...)` instead.\n",
      "  with amp.autocast(enabled=p.device.type != 'cpu'):\n",
      "C:\\Users\\dell\\AppData\\Local\\Temp\\ipykernel_5956\\1193285924.py:38: UserWarning: Matplotlib is currently using agg, which is a non-GUI backend, so cannot show the figure.\n",
      "  plt.show()\n",
      "C:\\Users/dell/yolov5\\models\\common.py:345: FutureWarning: `torch.cuda.amp.autocast(args...)` is deprecated. Please use `torch.amp.autocast('cuda', args...)` instead.\n",
      "  with amp.autocast(enabled=p.device.type != 'cpu'):\n",
      "C:\\Users\\dell\\AppData\\Local\\Temp\\ipykernel_5956\\1193285924.py:38: UserWarning: Matplotlib is currently using agg, which is a non-GUI backend, so cannot show the figure.\n",
      "  plt.show()\n",
      "C:\\Users/dell/yolov5\\models\\common.py:345: FutureWarning: `torch.cuda.amp.autocast(args...)` is deprecated. Please use `torch.amp.autocast('cuda', args...)` instead.\n",
      "  with amp.autocast(enabled=p.device.type != 'cpu'):\n",
      "C:\\Users\\dell\\AppData\\Local\\Temp\\ipykernel_5956\\1193285924.py:38: UserWarning: Matplotlib is currently using agg, which is a non-GUI backend, so cannot show the figure.\n",
      "  plt.show()\n",
      "C:\\Users/dell/yolov5\\models\\common.py:345: FutureWarning: `torch.cuda.amp.autocast(args...)` is deprecated. Please use `torch.amp.autocast('cuda', args...)` instead.\n",
      "  with amp.autocast(enabled=p.device.type != 'cpu'):\n",
      "C:\\Users\\dell\\AppData\\Local\\Temp\\ipykernel_5956\\1193285924.py:38: UserWarning: Matplotlib is currently using agg, which is a non-GUI backend, so cannot show the figure.\n",
      "  plt.show()\n",
      "C:\\Users/dell/yolov5\\models\\common.py:345: FutureWarning: `torch.cuda.amp.autocast(args...)` is deprecated. Please use `torch.amp.autocast('cuda', args...)` instead.\n",
      "  with amp.autocast(enabled=p.device.type != 'cpu'):\n",
      "C:\\Users\\dell\\AppData\\Local\\Temp\\ipykernel_5956\\1193285924.py:38: UserWarning: Matplotlib is currently using agg, which is a non-GUI backend, so cannot show the figure.\n",
      "  plt.show()\n",
      "C:\\Users/dell/yolov5\\models\\common.py:345: FutureWarning: `torch.cuda.amp.autocast(args...)` is deprecated. Please use `torch.amp.autocast('cuda', args...)` instead.\n",
      "  with amp.autocast(enabled=p.device.type != 'cpu'):\n",
      "C:\\Users\\dell\\AppData\\Local\\Temp\\ipykernel_5956\\1193285924.py:38: UserWarning: Matplotlib is currently using agg, which is a non-GUI backend, so cannot show the figure.\n",
      "  plt.show()\n",
      "C:\\Users/dell/yolov5\\models\\common.py:345: FutureWarning: `torch.cuda.amp.autocast(args...)` is deprecated. Please use `torch.amp.autocast('cuda', args...)` instead.\n",
      "  with amp.autocast(enabled=p.device.type != 'cpu'):\n",
      "C:\\Users\\dell\\AppData\\Local\\Temp\\ipykernel_5956\\1193285924.py:38: UserWarning: Matplotlib is currently using agg, which is a non-GUI backend, so cannot show the figure.\n",
      "  plt.show()\n",
      "C:\\Users/dell/yolov5\\models\\common.py:345: FutureWarning: `torch.cuda.amp.autocast(args...)` is deprecated. Please use `torch.amp.autocast('cuda', args...)` instead.\n",
      "  with amp.autocast(enabled=p.device.type != 'cpu'):\n",
      "C:\\Users\\dell\\AppData\\Local\\Temp\\ipykernel_5956\\1193285924.py:38: UserWarning: Matplotlib is currently using agg, which is a non-GUI backend, so cannot show the figure.\n",
      "  plt.show()\n",
      "C:\\Users/dell/yolov5\\models\\common.py:345: FutureWarning: `torch.cuda.amp.autocast(args...)` is deprecated. Please use `torch.amp.autocast('cuda', args...)` instead.\n",
      "  with amp.autocast(enabled=p.device.type != 'cpu'):\n",
      "C:\\Users\\dell\\AppData\\Local\\Temp\\ipykernel_5956\\1193285924.py:38: UserWarning: Matplotlib is currently using agg, which is a non-GUI backend, so cannot show the figure.\n",
      "  plt.show()\n",
      "C:\\Users/dell/yolov5\\models\\common.py:345: FutureWarning: `torch.cuda.amp.autocast(args...)` is deprecated. Please use `torch.amp.autocast('cuda', args...)` instead.\n",
      "  with amp.autocast(enabled=p.device.type != 'cpu'):\n",
      "C:\\Users\\dell\\AppData\\Local\\Temp\\ipykernel_5956\\1193285924.py:38: UserWarning: Matplotlib is currently using agg, which is a non-GUI backend, so cannot show the figure.\n",
      "  plt.show()\n",
      "C:\\Users/dell/yolov5\\models\\common.py:345: FutureWarning: `torch.cuda.amp.autocast(args...)` is deprecated. Please use `torch.amp.autocast('cuda', args...)` instead.\n",
      "  with amp.autocast(enabled=p.device.type != 'cpu'):\n",
      "C:\\Users\\dell\\AppData\\Local\\Temp\\ipykernel_5956\\1193285924.py:38: UserWarning: Matplotlib is currently using agg, which is a non-GUI backend, so cannot show the figure.\n",
      "  plt.show()\n",
      "C:\\Users/dell/yolov5\\models\\common.py:345: FutureWarning: `torch.cuda.amp.autocast(args...)` is deprecated. Please use `torch.amp.autocast('cuda', args...)` instead.\n",
      "  with amp.autocast(enabled=p.device.type != 'cpu'):\n",
      "C:\\Users\\dell\\AppData\\Local\\Temp\\ipykernel_5956\\1193285924.py:38: UserWarning: Matplotlib is currently using agg, which is a non-GUI backend, so cannot show the figure.\n",
      "  plt.show()\n",
      "C:\\Users/dell/yolov5\\models\\common.py:345: FutureWarning: `torch.cuda.amp.autocast(args...)` is deprecated. Please use `torch.amp.autocast('cuda', args...)` instead.\n",
      "  with amp.autocast(enabled=p.device.type != 'cpu'):\n",
      "C:\\Users\\dell\\AppData\\Local\\Temp\\ipykernel_5956\\1193285924.py:38: UserWarning: Matplotlib is currently using agg, which is a non-GUI backend, so cannot show the figure.\n",
      "  plt.show()\n",
      "C:\\Users/dell/yolov5\\models\\common.py:345: FutureWarning: `torch.cuda.amp.autocast(args...)` is deprecated. Please use `torch.amp.autocast('cuda', args...)` instead.\n",
      "  with amp.autocast(enabled=p.device.type != 'cpu'):\n",
      "C:\\Users\\dell\\AppData\\Local\\Temp\\ipykernel_5956\\1193285924.py:38: UserWarning: Matplotlib is currently using agg, which is a non-GUI backend, so cannot show the figure.\n",
      "  plt.show()\n",
      "C:\\Users/dell/yolov5\\models\\common.py:345: FutureWarning: `torch.cuda.amp.autocast(args...)` is deprecated. Please use `torch.amp.autocast('cuda', args...)` instead.\n",
      "  with amp.autocast(enabled=p.device.type != 'cpu'):\n",
      "C:\\Users\\dell\\AppData\\Local\\Temp\\ipykernel_5956\\1193285924.py:38: UserWarning: Matplotlib is currently using agg, which is a non-GUI backend, so cannot show the figure.\n",
      "  plt.show()\n",
      "C:\\Users/dell/yolov5\\models\\common.py:345: FutureWarning: `torch.cuda.amp.autocast(args...)` is deprecated. Please use `torch.amp.autocast('cuda', args...)` instead.\n",
      "  with amp.autocast(enabled=p.device.type != 'cpu'):\n",
      "C:\\Users\\dell\\AppData\\Local\\Temp\\ipykernel_5956\\1193285924.py:38: UserWarning: Matplotlib is currently using agg, which is a non-GUI backend, so cannot show the figure.\n",
      "  plt.show()\n",
      "C:\\Users/dell/yolov5\\models\\common.py:345: FutureWarning: `torch.cuda.amp.autocast(args...)` is deprecated. Please use `torch.amp.autocast('cuda', args...)` instead.\n",
      "  with amp.autocast(enabled=p.device.type != 'cpu'):\n",
      "C:\\Users\\dell\\AppData\\Local\\Temp\\ipykernel_5956\\1193285924.py:38: UserWarning: Matplotlib is currently using agg, which is a non-GUI backend, so cannot show the figure.\n",
      "  plt.show()\n",
      "C:\\Users/dell/yolov5\\models\\common.py:345: FutureWarning: `torch.cuda.amp.autocast(args...)` is deprecated. Please use `torch.amp.autocast('cuda', args...)` instead.\n",
      "  with amp.autocast(enabled=p.device.type != 'cpu'):\n",
      "C:\\Users\\dell\\AppData\\Local\\Temp\\ipykernel_5956\\1193285924.py:38: UserWarning: Matplotlib is currently using agg, which is a non-GUI backend, so cannot show the figure.\n",
      "  plt.show()\n",
      "C:\\Users/dell/yolov5\\models\\common.py:345: FutureWarning: `torch.cuda.amp.autocast(args...)` is deprecated. Please use `torch.amp.autocast('cuda', args...)` instead.\n",
      "  with amp.autocast(enabled=p.device.type != 'cpu'):\n",
      "C:\\Users\\dell\\AppData\\Local\\Temp\\ipykernel_5956\\1193285924.py:38: UserWarning: Matplotlib is currently using agg, which is a non-GUI backend, so cannot show the figure.\n",
      "  plt.show()\n",
      "C:\\Users/dell/yolov5\\models\\common.py:345: FutureWarning: `torch.cuda.amp.autocast(args...)` is deprecated. Please use `torch.amp.autocast('cuda', args...)` instead.\n",
      "  with amp.autocast(enabled=p.device.type != 'cpu'):\n",
      "C:\\Users\\dell\\AppData\\Local\\Temp\\ipykernel_5956\\1193285924.py:38: UserWarning: Matplotlib is currently using agg, which is a non-GUI backend, so cannot show the figure.\n",
      "  plt.show()\n",
      "C:\\Users/dell/yolov5\\models\\common.py:345: FutureWarning: `torch.cuda.amp.autocast(args...)` is deprecated. Please use `torch.amp.autocast('cuda', args...)` instead.\n",
      "  with amp.autocast(enabled=p.device.type != 'cpu'):\n",
      "C:\\Users\\dell\\AppData\\Local\\Temp\\ipykernel_5956\\1193285924.py:38: UserWarning: Matplotlib is currently using agg, which is a non-GUI backend, so cannot show the figure.\n",
      "  plt.show()\n",
      "C:\\Users/dell/yolov5\\models\\common.py:345: FutureWarning: `torch.cuda.amp.autocast(args...)` is deprecated. Please use `torch.amp.autocast('cuda', args...)` instead.\n",
      "  with amp.autocast(enabled=p.device.type != 'cpu'):\n",
      "C:\\Users\\dell\\AppData\\Local\\Temp\\ipykernel_5956\\1193285924.py:38: UserWarning: Matplotlib is currently using agg, which is a non-GUI backend, so cannot show the figure.\n",
      "  plt.show()\n",
      "C:\\Users/dell/yolov5\\models\\common.py:345: FutureWarning: `torch.cuda.amp.autocast(args...)` is deprecated. Please use `torch.amp.autocast('cuda', args...)` instead.\n",
      "  with amp.autocast(enabled=p.device.type != 'cpu'):\n",
      "C:\\Users\\dell\\AppData\\Local\\Temp\\ipykernel_5956\\1193285924.py:38: UserWarning: Matplotlib is currently using agg, which is a non-GUI backend, so cannot show the figure.\n",
      "  plt.show()\n",
      "C:\\Users/dell/yolov5\\models\\common.py:345: FutureWarning: `torch.cuda.amp.autocast(args...)` is deprecated. Please use `torch.amp.autocast('cuda', args...)` instead.\n",
      "  with amp.autocast(enabled=p.device.type != 'cpu'):\n",
      "C:\\Users\\dell\\AppData\\Local\\Temp\\ipykernel_5956\\1193285924.py:38: UserWarning: Matplotlib is currently using agg, which is a non-GUI backend, so cannot show the figure.\n",
      "  plt.show()\n",
      "C:\\Users/dell/yolov5\\models\\common.py:345: FutureWarning: `torch.cuda.amp.autocast(args...)` is deprecated. Please use `torch.amp.autocast('cuda', args...)` instead.\n",
      "  with amp.autocast(enabled=p.device.type != 'cpu'):\n",
      "C:\\Users\\dell\\AppData\\Local\\Temp\\ipykernel_5956\\1193285924.py:38: UserWarning: Matplotlib is currently using agg, which is a non-GUI backend, so cannot show the figure.\n",
      "  plt.show()\n",
      "C:\\Users/dell/yolov5\\models\\common.py:345: FutureWarning: `torch.cuda.amp.autocast(args...)` is deprecated. Please use `torch.amp.autocast('cuda', args...)` instead.\n",
      "  with amp.autocast(enabled=p.device.type != 'cpu'):\n",
      "C:\\Users\\dell\\AppData\\Local\\Temp\\ipykernel_5956\\1193285924.py:38: UserWarning: Matplotlib is currently using agg, which is a non-GUI backend, so cannot show the figure.\n",
      "  plt.show()\n",
      "C:\\Users/dell/yolov5\\models\\common.py:345: FutureWarning: `torch.cuda.amp.autocast(args...)` is deprecated. Please use `torch.amp.autocast('cuda', args...)` instead.\n",
      "  with amp.autocast(enabled=p.device.type != 'cpu'):\n",
      "C:\\Users\\dell\\AppData\\Local\\Temp\\ipykernel_5956\\1193285924.py:38: UserWarning: Matplotlib is currently using agg, which is a non-GUI backend, so cannot show the figure.\n",
      "  plt.show()\n",
      "C:\\Users/dell/yolov5\\models\\common.py:345: FutureWarning: `torch.cuda.amp.autocast(args...)` is deprecated. Please use `torch.amp.autocast('cuda', args...)` instead.\n",
      "  with amp.autocast(enabled=p.device.type != 'cpu'):\n",
      "C:\\Users\\dell\\AppData\\Local\\Temp\\ipykernel_5956\\1193285924.py:38: UserWarning: Matplotlib is currently using agg, which is a non-GUI backend, so cannot show the figure.\n",
      "  plt.show()\n",
      "C:\\Users/dell/yolov5\\models\\common.py:345: FutureWarning: `torch.cuda.amp.autocast(args...)` is deprecated. Please use `torch.amp.autocast('cuda', args...)` instead.\n",
      "  with amp.autocast(enabled=p.device.type != 'cpu'):\n",
      "C:\\Users\\dell\\AppData\\Local\\Temp\\ipykernel_5956\\1193285924.py:38: UserWarning: Matplotlib is currently using agg, which is a non-GUI backend, so cannot show the figure.\n",
      "  plt.show()\n",
      "C:\\Users/dell/yolov5\\models\\common.py:345: FutureWarning: `torch.cuda.amp.autocast(args...)` is deprecated. Please use `torch.amp.autocast('cuda', args...)` instead.\n",
      "  with amp.autocast(enabled=p.device.type != 'cpu'):\n",
      "C:\\Users\\dell\\AppData\\Local\\Temp\\ipykernel_5956\\1193285924.py:38: UserWarning: Matplotlib is currently using agg, which is a non-GUI backend, so cannot show the figure.\n",
      "  plt.show()\n",
      "C:\\Users/dell/yolov5\\models\\common.py:345: FutureWarning: `torch.cuda.amp.autocast(args...)` is deprecated. Please use `torch.amp.autocast('cuda', args...)` instead.\n",
      "  with amp.autocast(enabled=p.device.type != 'cpu'):\n",
      "C:\\Users\\dell\\AppData\\Local\\Temp\\ipykernel_5956\\1193285924.py:38: UserWarning: Matplotlib is currently using agg, which is a non-GUI backend, so cannot show the figure.\n",
      "  plt.show()\n",
      "C:\\Users/dell/yolov5\\models\\common.py:345: FutureWarning: `torch.cuda.amp.autocast(args...)` is deprecated. Please use `torch.amp.autocast('cuda', args...)` instead.\n",
      "  with amp.autocast(enabled=p.device.type != 'cpu'):\n",
      "C:\\Users\\dell\\AppData\\Local\\Temp\\ipykernel_5956\\1193285924.py:38: UserWarning: Matplotlib is currently using agg, which is a non-GUI backend, so cannot show the figure.\n",
      "  plt.show()\n",
      "C:\\Users/dell/yolov5\\models\\common.py:345: FutureWarning: `torch.cuda.amp.autocast(args...)` is deprecated. Please use `torch.amp.autocast('cuda', args...)` instead.\n",
      "  with amp.autocast(enabled=p.device.type != 'cpu'):\n",
      "C:\\Users\\dell\\AppData\\Local\\Temp\\ipykernel_5956\\1193285924.py:38: UserWarning: Matplotlib is currently using agg, which is a non-GUI backend, so cannot show the figure.\n",
      "  plt.show()\n",
      "C:\\Users/dell/yolov5\\models\\common.py:345: FutureWarning: `torch.cuda.amp.autocast(args...)` is deprecated. Please use `torch.amp.autocast('cuda', args...)` instead.\n",
      "  with amp.autocast(enabled=p.device.type != 'cpu'):\n",
      "C:\\Users\\dell\\AppData\\Local\\Temp\\ipykernel_5956\\1193285924.py:38: UserWarning: Matplotlib is currently using agg, which is a non-GUI backend, so cannot show the figure.\n",
      "  plt.show()\n",
      "C:\\Users/dell/yolov5\\models\\common.py:345: FutureWarning: `torch.cuda.amp.autocast(args...)` is deprecated. Please use `torch.amp.autocast('cuda', args...)` instead.\n",
      "  with amp.autocast(enabled=p.device.type != 'cpu'):\n",
      "C:\\Users\\dell\\AppData\\Local\\Temp\\ipykernel_5956\\1193285924.py:38: UserWarning: Matplotlib is currently using agg, which is a non-GUI backend, so cannot show the figure.\n",
      "  plt.show()\n",
      "C:\\Users/dell/yolov5\\models\\common.py:345: FutureWarning: `torch.cuda.amp.autocast(args...)` is deprecated. Please use `torch.amp.autocast('cuda', args...)` instead.\n",
      "  with amp.autocast(enabled=p.device.type != 'cpu'):\n",
      "C:\\Users\\dell\\AppData\\Local\\Temp\\ipykernel_5956\\1193285924.py:38: UserWarning: Matplotlib is currently using agg, which is a non-GUI backend, so cannot show the figure.\n",
      "  plt.show()\n",
      "C:\\Users/dell/yolov5\\models\\common.py:345: FutureWarning: `torch.cuda.amp.autocast(args...)` is deprecated. Please use `torch.amp.autocast('cuda', args...)` instead.\n",
      "  with amp.autocast(enabled=p.device.type != 'cpu'):\n",
      "C:\\Users\\dell\\AppData\\Local\\Temp\\ipykernel_5956\\1193285924.py:38: UserWarning: Matplotlib is currently using agg, which is a non-GUI backend, so cannot show the figure.\n",
      "  plt.show()\n",
      "C:\\Users/dell/yolov5\\models\\common.py:345: FutureWarning: `torch.cuda.amp.autocast(args...)` is deprecated. Please use `torch.amp.autocast('cuda', args...)` instead.\n",
      "  with amp.autocast(enabled=p.device.type != 'cpu'):\n",
      "C:\\Users\\dell\\AppData\\Local\\Temp\\ipykernel_5956\\1193285924.py:38: UserWarning: Matplotlib is currently using agg, which is a non-GUI backend, so cannot show the figure.\n",
      "  plt.show()\n",
      "C:\\Users/dell/yolov5\\models\\common.py:345: FutureWarning: `torch.cuda.amp.autocast(args...)` is deprecated. Please use `torch.amp.autocast('cuda', args...)` instead.\n",
      "  with amp.autocast(enabled=p.device.type != 'cpu'):\n",
      "C:\\Users\\dell\\AppData\\Local\\Temp\\ipykernel_5956\\1193285924.py:38: UserWarning: Matplotlib is currently using agg, which is a non-GUI backend, so cannot show the figure.\n",
      "  plt.show()\n",
      "C:\\Users/dell/yolov5\\models\\common.py:345: FutureWarning: `torch.cuda.amp.autocast(args...)` is deprecated. Please use `torch.amp.autocast('cuda', args...)` instead.\n",
      "  with amp.autocast(enabled=p.device.type != 'cpu'):\n",
      "C:\\Users\\dell\\AppData\\Local\\Temp\\ipykernel_5956\\1193285924.py:38: UserWarning: Matplotlib is currently using agg, which is a non-GUI backend, so cannot show the figure.\n",
      "  plt.show()\n",
      "C:\\Users/dell/yolov5\\models\\common.py:345: FutureWarning: `torch.cuda.amp.autocast(args...)` is deprecated. Please use `torch.amp.autocast('cuda', args...)` instead.\n",
      "  with amp.autocast(enabled=p.device.type != 'cpu'):\n",
      "C:\\Users\\dell\\AppData\\Local\\Temp\\ipykernel_5956\\1193285924.py:38: UserWarning: Matplotlib is currently using agg, which is a non-GUI backend, so cannot show the figure.\n",
      "  plt.show()\n",
      "C:\\Users/dell/yolov5\\models\\common.py:345: FutureWarning: `torch.cuda.amp.autocast(args...)` is deprecated. Please use `torch.amp.autocast('cuda', args...)` instead.\n",
      "  with amp.autocast(enabled=p.device.type != 'cpu'):\n",
      "C:\\Users\\dell\\AppData\\Local\\Temp\\ipykernel_5956\\1193285924.py:38: UserWarning: Matplotlib is currently using agg, which is a non-GUI backend, so cannot show the figure.\n",
      "  plt.show()\n",
      "C:\\Users/dell/yolov5\\models\\common.py:345: FutureWarning: `torch.cuda.amp.autocast(args...)` is deprecated. Please use `torch.amp.autocast('cuda', args...)` instead.\n",
      "  with amp.autocast(enabled=p.device.type != 'cpu'):\n",
      "C:\\Users\\dell\\AppData\\Local\\Temp\\ipykernel_5956\\1193285924.py:38: UserWarning: Matplotlib is currently using agg, which is a non-GUI backend, so cannot show the figure.\n",
      "  plt.show()\n",
      "C:\\Users/dell/yolov5\\models\\common.py:345: FutureWarning: `torch.cuda.amp.autocast(args...)` is deprecated. Please use `torch.amp.autocast('cuda', args...)` instead.\n",
      "  with amp.autocast(enabled=p.device.type != 'cpu'):\n",
      "C:\\Users\\dell\\AppData\\Local\\Temp\\ipykernel_5956\\1193285924.py:38: UserWarning: Matplotlib is currently using agg, which is a non-GUI backend, so cannot show the figure.\n",
      "  plt.show()\n",
      "C:\\Users/dell/yolov5\\models\\common.py:345: FutureWarning: `torch.cuda.amp.autocast(args...)` is deprecated. Please use `torch.amp.autocast('cuda', args...)` instead.\n",
      "  with amp.autocast(enabled=p.device.type != 'cpu'):\n",
      "C:\\Users\\dell\\AppData\\Local\\Temp\\ipykernel_5956\\1193285924.py:38: UserWarning: Matplotlib is currently using agg, which is a non-GUI backend, so cannot show the figure.\n",
      "  plt.show()\n",
      "C:\\Users/dell/yolov5\\models\\common.py:345: FutureWarning: `torch.cuda.amp.autocast(args...)` is deprecated. Please use `torch.amp.autocast('cuda', args...)` instead.\n",
      "  with amp.autocast(enabled=p.device.type != 'cpu'):\n",
      "C:\\Users\\dell\\AppData\\Local\\Temp\\ipykernel_5956\\1193285924.py:38: UserWarning: Matplotlib is currently using agg, which is a non-GUI backend, so cannot show the figure.\n",
      "  plt.show()\n",
      "C:\\Users/dell/yolov5\\models\\common.py:345: FutureWarning: `torch.cuda.amp.autocast(args...)` is deprecated. Please use `torch.amp.autocast('cuda', args...)` instead.\n",
      "  with amp.autocast(enabled=p.device.type != 'cpu'):\n",
      "C:\\Users\\dell\\AppData\\Local\\Temp\\ipykernel_5956\\1193285924.py:38: UserWarning: Matplotlib is currently using agg, which is a non-GUI backend, so cannot show the figure.\n",
      "  plt.show()\n",
      "C:\\Users/dell/yolov5\\models\\common.py:345: FutureWarning: `torch.cuda.amp.autocast(args...)` is deprecated. Please use `torch.amp.autocast('cuda', args...)` instead.\n",
      "  with amp.autocast(enabled=p.device.type != 'cpu'):\n",
      "C:\\Users\\dell\\AppData\\Local\\Temp\\ipykernel_5956\\1193285924.py:38: UserWarning: Matplotlib is currently using agg, which is a non-GUI backend, so cannot show the figure.\n",
      "  plt.show()\n",
      "C:\\Users/dell/yolov5\\models\\common.py:345: FutureWarning: `torch.cuda.amp.autocast(args...)` is deprecated. Please use `torch.amp.autocast('cuda', args...)` instead.\n",
      "  with amp.autocast(enabled=p.device.type != 'cpu'):\n",
      "C:\\Users\\dell\\AppData\\Local\\Temp\\ipykernel_5956\\1193285924.py:38: UserWarning: Matplotlib is currently using agg, which is a non-GUI backend, so cannot show the figure.\n",
      "  plt.show()\n",
      "C:\\Users/dell/yolov5\\models\\common.py:345: FutureWarning: `torch.cuda.amp.autocast(args...)` is deprecated. Please use `torch.amp.autocast('cuda', args...)` instead.\n",
      "  with amp.autocast(enabled=p.device.type != 'cpu'):\n",
      "C:\\Users\\dell\\AppData\\Local\\Temp\\ipykernel_5956\\1193285924.py:38: UserWarning: Matplotlib is currently using agg, which is a non-GUI backend, so cannot show the figure.\n",
      "  plt.show()\n",
      "C:\\Users/dell/yolov5\\models\\common.py:345: FutureWarning: `torch.cuda.amp.autocast(args...)` is deprecated. Please use `torch.amp.autocast('cuda', args...)` instead.\n",
      "  with amp.autocast(enabled=p.device.type != 'cpu'):\n",
      "C:\\Users\\dell\\AppData\\Local\\Temp\\ipykernel_5956\\1193285924.py:38: UserWarning: Matplotlib is currently using agg, which is a non-GUI backend, so cannot show the figure.\n",
      "  plt.show()\n",
      "C:\\Users/dell/yolov5\\models\\common.py:345: FutureWarning: `torch.cuda.amp.autocast(args...)` is deprecated. Please use `torch.amp.autocast('cuda', args...)` instead.\n",
      "  with amp.autocast(enabled=p.device.type != 'cpu'):\n",
      "C:\\Users\\dell\\AppData\\Local\\Temp\\ipykernel_5956\\1193285924.py:38: UserWarning: Matplotlib is currently using agg, which is a non-GUI backend, so cannot show the figure.\n",
      "  plt.show()\n",
      "C:\\Users/dell/yolov5\\models\\common.py:345: FutureWarning: `torch.cuda.amp.autocast(args...)` is deprecated. Please use `torch.amp.autocast('cuda', args...)` instead.\n",
      "  with amp.autocast(enabled=p.device.type != 'cpu'):\n",
      "C:\\Users\\dell\\AppData\\Local\\Temp\\ipykernel_5956\\1193285924.py:38: UserWarning: Matplotlib is currently using agg, which is a non-GUI backend, so cannot show the figure.\n",
      "  plt.show()\n",
      "C:\\Users/dell/yolov5\\models\\common.py:345: FutureWarning: `torch.cuda.amp.autocast(args...)` is deprecated. Please use `torch.amp.autocast('cuda', args...)` instead.\n",
      "  with amp.autocast(enabled=p.device.type != 'cpu'):\n",
      "C:\\Users\\dell\\AppData\\Local\\Temp\\ipykernel_5956\\1193285924.py:38: UserWarning: Matplotlib is currently using agg, which is a non-GUI backend, so cannot show the figure.\n",
      "  plt.show()\n",
      "C:\\Users/dell/yolov5\\models\\common.py:345: FutureWarning: `torch.cuda.amp.autocast(args...)` is deprecated. Please use `torch.amp.autocast('cuda', args...)` instead.\n",
      "  with amp.autocast(enabled=p.device.type != 'cpu'):\n",
      "C:\\Users\\dell\\AppData\\Local\\Temp\\ipykernel_5956\\1193285924.py:38: UserWarning: Matplotlib is currently using agg, which is a non-GUI backend, so cannot show the figure.\n",
      "  plt.show()\n",
      "C:\\Users/dell/yolov5\\models\\common.py:345: FutureWarning: `torch.cuda.amp.autocast(args...)` is deprecated. Please use `torch.amp.autocast('cuda', args...)` instead.\n",
      "  with amp.autocast(enabled=p.device.type != 'cpu'):\n",
      "C:\\Users\\dell\\AppData\\Local\\Temp\\ipykernel_5956\\1193285924.py:38: UserWarning: Matplotlib is currently using agg, which is a non-GUI backend, so cannot show the figure.\n",
      "  plt.show()\n",
      "C:\\Users/dell/yolov5\\models\\common.py:345: FutureWarning: `torch.cuda.amp.autocast(args...)` is deprecated. Please use `torch.amp.autocast('cuda', args...)` instead.\n",
      "  with amp.autocast(enabled=p.device.type != 'cpu'):\n",
      "C:\\Users\\dell\\AppData\\Local\\Temp\\ipykernel_5956\\1193285924.py:38: UserWarning: Matplotlib is currently using agg, which is a non-GUI backend, so cannot show the figure.\n",
      "  plt.show()\n",
      "C:\\Users/dell/yolov5\\models\\common.py:345: FutureWarning: `torch.cuda.amp.autocast(args...)` is deprecated. Please use `torch.amp.autocast('cuda', args...)` instead.\n",
      "  with amp.autocast(enabled=p.device.type != 'cpu'):\n",
      "C:\\Users\\dell\\AppData\\Local\\Temp\\ipykernel_5956\\1193285924.py:38: UserWarning: Matplotlib is currently using agg, which is a non-GUI backend, so cannot show the figure.\n",
      "  plt.show()\n",
      "C:\\Users/dell/yolov5\\models\\common.py:345: FutureWarning: `torch.cuda.amp.autocast(args...)` is deprecated. Please use `torch.amp.autocast('cuda', args...)` instead.\n",
      "  with amp.autocast(enabled=p.device.type != 'cpu'):\n",
      "C:\\Users\\dell\\AppData\\Local\\Temp\\ipykernel_5956\\1193285924.py:38: UserWarning: Matplotlib is currently using agg, which is a non-GUI backend, so cannot show the figure.\n",
      "  plt.show()\n",
      "C:\\Users/dell/yolov5\\models\\common.py:345: FutureWarning: `torch.cuda.amp.autocast(args...)` is deprecated. Please use `torch.amp.autocast('cuda', args...)` instead.\n",
      "  with amp.autocast(enabled=p.device.type != 'cpu'):\n",
      "C:\\Users\\dell\\AppData\\Local\\Temp\\ipykernel_5956\\1193285924.py:38: UserWarning: Matplotlib is currently using agg, which is a non-GUI backend, so cannot show the figure.\n",
      "  plt.show()\n",
      "C:\\Users/dell/yolov5\\models\\common.py:345: FutureWarning: `torch.cuda.amp.autocast(args...)` is deprecated. Please use `torch.amp.autocast('cuda', args...)` instead.\n",
      "  with amp.autocast(enabled=p.device.type != 'cpu'):\n",
      "C:\\Users\\dell\\AppData\\Local\\Temp\\ipykernel_5956\\1193285924.py:38: UserWarning: Matplotlib is currently using agg, which is a non-GUI backend, so cannot show the figure.\n",
      "  plt.show()\n",
      "C:\\Users/dell/yolov5\\models\\common.py:345: FutureWarning: `torch.cuda.amp.autocast(args...)` is deprecated. Please use `torch.amp.autocast('cuda', args...)` instead.\n",
      "  with amp.autocast(enabled=p.device.type != 'cpu'):\n",
      "C:\\Users\\dell\\AppData\\Local\\Temp\\ipykernel_5956\\1193285924.py:38: UserWarning: Matplotlib is currently using agg, which is a non-GUI backend, so cannot show the figure.\n",
      "  plt.show()\n",
      "C:\\Users/dell/yolov5\\models\\common.py:345: FutureWarning: `torch.cuda.amp.autocast(args...)` is deprecated. Please use `torch.amp.autocast('cuda', args...)` instead.\n",
      "  with amp.autocast(enabled=p.device.type != 'cpu'):\n",
      "C:\\Users\\dell\\AppData\\Local\\Temp\\ipykernel_5956\\1193285924.py:38: UserWarning: Matplotlib is currently using agg, which is a non-GUI backend, so cannot show the figure.\n",
      "  plt.show()\n",
      "C:\\Users/dell/yolov5\\models\\common.py:345: FutureWarning: `torch.cuda.amp.autocast(args...)` is deprecated. Please use `torch.amp.autocast('cuda', args...)` instead.\n",
      "  with amp.autocast(enabled=p.device.type != 'cpu'):\n",
      "C:\\Users\\dell\\AppData\\Local\\Temp\\ipykernel_5956\\1193285924.py:38: UserWarning: Matplotlib is currently using agg, which is a non-GUI backend, so cannot show the figure.\n",
      "  plt.show()\n",
      "C:\\Users/dell/yolov5\\models\\common.py:345: FutureWarning: `torch.cuda.amp.autocast(args...)` is deprecated. Please use `torch.amp.autocast('cuda', args...)` instead.\n",
      "  with amp.autocast(enabled=p.device.type != 'cpu'):\n",
      "C:\\Users\\dell\\AppData\\Local\\Temp\\ipykernel_5956\\1193285924.py:38: UserWarning: Matplotlib is currently using agg, which is a non-GUI backend, so cannot show the figure.\n",
      "  plt.show()\n",
      "C:\\Users/dell/yolov5\\models\\common.py:345: FutureWarning: `torch.cuda.amp.autocast(args...)` is deprecated. Please use `torch.amp.autocast('cuda', args...)` instead.\n",
      "  with amp.autocast(enabled=p.device.type != 'cpu'):\n",
      "C:\\Users\\dell\\AppData\\Local\\Temp\\ipykernel_5956\\1193285924.py:38: UserWarning: Matplotlib is currently using agg, which is a non-GUI backend, so cannot show the figure.\n",
      "  plt.show()\n",
      "C:\\Users/dell/yolov5\\models\\common.py:345: FutureWarning: `torch.cuda.amp.autocast(args...)` is deprecated. Please use `torch.amp.autocast('cuda', args...)` instead.\n",
      "  with amp.autocast(enabled=p.device.type != 'cpu'):\n",
      "C:\\Users\\dell\\AppData\\Local\\Temp\\ipykernel_5956\\1193285924.py:38: UserWarning: Matplotlib is currently using agg, which is a non-GUI backend, so cannot show the figure.\n",
      "  plt.show()\n",
      "C:\\Users/dell/yolov5\\models\\common.py:345: FutureWarning: `torch.cuda.amp.autocast(args...)` is deprecated. Please use `torch.amp.autocast('cuda', args...)` instead.\n",
      "  with amp.autocast(enabled=p.device.type != 'cpu'):\n",
      "C:\\Users\\dell\\AppData\\Local\\Temp\\ipykernel_5956\\1193285924.py:38: UserWarning: Matplotlib is currently using agg, which is a non-GUI backend, so cannot show the figure.\n",
      "  plt.show()\n",
      "C:\\Users/dell/yolov5\\models\\common.py:345: FutureWarning: `torch.cuda.amp.autocast(args...)` is deprecated. Please use `torch.amp.autocast('cuda', args...)` instead.\n",
      "  with amp.autocast(enabled=p.device.type != 'cpu'):\n",
      "C:\\Users\\dell\\AppData\\Local\\Temp\\ipykernel_5956\\1193285924.py:38: UserWarning: Matplotlib is currently using agg, which is a non-GUI backend, so cannot show the figure.\n",
      "  plt.show()\n",
      "C:\\Users/dell/yolov5\\models\\common.py:345: FutureWarning: `torch.cuda.amp.autocast(args...)` is deprecated. Please use `torch.amp.autocast('cuda', args...)` instead.\n",
      "  with amp.autocast(enabled=p.device.type != 'cpu'):\n",
      "C:\\Users\\dell\\AppData\\Local\\Temp\\ipykernel_5956\\1193285924.py:38: UserWarning: Matplotlib is currently using agg, which is a non-GUI backend, so cannot show the figure.\n",
      "  plt.show()\n",
      "C:\\Users/dell/yolov5\\models\\common.py:345: FutureWarning: `torch.cuda.amp.autocast(args...)` is deprecated. Please use `torch.amp.autocast('cuda', args...)` instead.\n",
      "  with amp.autocast(enabled=p.device.type != 'cpu'):\n",
      "C:\\Users\\dell\\AppData\\Local\\Temp\\ipykernel_5956\\1193285924.py:38: UserWarning: Matplotlib is currently using agg, which is a non-GUI backend, so cannot show the figure.\n",
      "  plt.show()\n",
      "C:\\Users/dell/yolov5\\models\\common.py:345: FutureWarning: `torch.cuda.amp.autocast(args...)` is deprecated. Please use `torch.amp.autocast('cuda', args...)` instead.\n",
      "  with amp.autocast(enabled=p.device.type != 'cpu'):\n",
      "C:\\Users\\dell\\AppData\\Local\\Temp\\ipykernel_5956\\1193285924.py:38: UserWarning: Matplotlib is currently using agg, which is a non-GUI backend, so cannot show the figure.\n",
      "  plt.show()\n"
     ]
    }
   ],
   "source": [
    "import os\n",
    "import cv2\n",
    "import torch\n",
    "import matplotlib.pyplot as plt\n",
    "\n",
    "# Charger le modèle\n",
    "model_path = r'C:/Users/dell/yolov5/models/best.pt'\n",
    "model = torch.hub.load(r'C:/Users/dell/yolov5', 'custom', path=model_path, source='local')\n",
    "model.eval()\n",
    "\n",
    "# Dossier d’images à analyser\n",
    "image_folder = r'C:/Users/dell/Downloads/test/images'\n",
    "\n",
    "# Récupérer la liste des fichiers images (formats courants)\n",
    "image_files = [f for f in os.listdir(image_folder) if f.lower().endswith(('.jpg', '.jpeg', '.png'))]\n",
    "\n",
    "# Vérifier qu’il y a des images\n",
    "if not image_files:\n",
    "    print(\"Aucune image trouvée dans le dossier.\")\n",
    "else:\n",
    "    for file in image_files:\n",
    "        image_path = os.path.join(image_folder, file)\n",
    "        img = cv2.imread(image_path)\n",
    "\n",
    "        if img is None:\n",
    "            print(f\"Impossible de lire {file}\")\n",
    "            continue\n",
    "\n",
    "        # Inference YOLOv5\n",
    "        results = model(img)\n",
    "\n",
    "        # Annoter et afficher l’image\n",
    "        annotated_img = results.render()[0]\n",
    "        plt.figure(figsize=(10, 8))\n",
    "        plt.imshow(cv2.cvtColor(annotated_img, cv2.COLOR_BGR2RGB))\n",
    "        plt.axis('off')\n",
    "        plt.title(f\"Résultat : {file}\")\n",
    "        plt.show()\n"
   ]
  },
  {
   "cell_type": "code",
   "execution_count": 4,
   "id": "cfbce87c-f6b7-4661-8461-4a06979f5269",
   "metadata": {},
   "outputs": [
    {
     "name": "stderr",
     "output_type": "stream",
     "text": [
      "YOLOv5  v6.0-0-g956be8e6 torch 2.4.1+cpu CPU\n",
      "\n",
      "C:\\Users/dell/yolov5\\models\\experimental.py:94: FutureWarning: You are using `torch.load` with `weights_only=False` (the current default value), which uses the default pickle module implicitly. It is possible to construct malicious pickle data which will execute arbitrary code during unpickling (See https://github.com/pytorch/pytorch/blob/main/SECURITY.md#untrusted-models for more details). In a future release, the default value for `weights_only` will be flipped to `True`. This limits the functions that could be executed during unpickling. Arbitrary objects will no longer be allowed to be loaded via this mode unless they are explicitly allowlisted by the user via `torch.serialization.add_safe_globals`. We recommend you start setting `weights_only=True` for any use case where you don't have full control of the loaded file. Please open an issue on GitHub for any issues related to this experimental feature.\n",
      "  ckpt = torch.load(attempt_download(w), map_location=map_location)  # load\n",
      "Fusing layers... \n",
      "Model Summary: 213 layers, 7018216 parameters, 0 gradients, 15.8 GFLOPs\n",
      "Adding AutoShape... \n",
      "C:\\Users/dell/yolov5\\models\\common.py:345: FutureWarning: `torch.cuda.amp.autocast(args...)` is deprecated. Please use `torch.amp.autocast('cuda', args...)` instead.\n",
      "  with amp.autocast(enabled=p.device.type != 'cpu'):\n"
     ]
    },
    {
     "name": "stdout",
     "output_type": "stream",
     "text": [
      "Image sauvegardée : C:/Users/dell/Downloads/test/outputs\\fall015_jpg.rf.a391d2f391d05900e7b871454b04dc2f.jpg\n"
     ]
    },
    {
     "name": "stderr",
     "output_type": "stream",
     "text": [
      "C:\\Users/dell/yolov5\\models\\common.py:345: FutureWarning: `torch.cuda.amp.autocast(args...)` is deprecated. Please use `torch.amp.autocast('cuda', args...)` instead.\n",
      "  with amp.autocast(enabled=p.device.type != 'cpu'):\n"
     ]
    },
    {
     "name": "stdout",
     "output_type": "stream",
     "text": [
      "Image sauvegardée : C:/Users/dell/Downloads/test/outputs\\fall027_jpg.rf.72b333103dfd9fea0c0b2f24421593f8.jpg\n"
     ]
    },
    {
     "name": "stderr",
     "output_type": "stream",
     "text": [
      "C:\\Users/dell/yolov5\\models\\common.py:345: FutureWarning: `torch.cuda.amp.autocast(args...)` is deprecated. Please use `torch.amp.autocast('cuda', args...)` instead.\n",
      "  with amp.autocast(enabled=p.device.type != 'cpu'):\n"
     ]
    },
    {
     "name": "stdout",
     "output_type": "stream",
     "text": [
      "Image sauvegardée : C:/Users/dell/Downloads/test/outputs\\fall034_jpg.rf.47492fac61c5625f02505ef0eb5aa160.jpg\n"
     ]
    },
    {
     "name": "stderr",
     "output_type": "stream",
     "text": [
      "C:\\Users/dell/yolov5\\models\\common.py:345: FutureWarning: `torch.cuda.amp.autocast(args...)` is deprecated. Please use `torch.amp.autocast('cuda', args...)` instead.\n",
      "  with amp.autocast(enabled=p.device.type != 'cpu'):\n"
     ]
    },
    {
     "name": "stdout",
     "output_type": "stream",
     "text": [
      "Image sauvegardée : C:/Users/dell/Downloads/test/outputs\\fall038_jpg.rf.44ac118ae07de1821b1b623db23a0c3f.jpg\n"
     ]
    },
    {
     "name": "stderr",
     "output_type": "stream",
     "text": [
      "C:\\Users/dell/yolov5\\models\\common.py:345: FutureWarning: `torch.cuda.amp.autocast(args...)` is deprecated. Please use `torch.amp.autocast('cuda', args...)` instead.\n",
      "  with amp.autocast(enabled=p.device.type != 'cpu'):\n"
     ]
    },
    {
     "name": "stdout",
     "output_type": "stream",
     "text": [
      "Image sauvegardée : C:/Users/dell/Downloads/test/outputs\\fall040_jpg.rf.5342e838fcfd07314c6a3e76ed6d761c.jpg\n"
     ]
    },
    {
     "name": "stderr",
     "output_type": "stream",
     "text": [
      "C:\\Users/dell/yolov5\\models\\common.py:345: FutureWarning: `torch.cuda.amp.autocast(args...)` is deprecated. Please use `torch.amp.autocast('cuda', args...)` instead.\n",
      "  with amp.autocast(enabled=p.device.type != 'cpu'):\n"
     ]
    },
    {
     "name": "stdout",
     "output_type": "stream",
     "text": [
      "Image sauvegardée : C:/Users/dell/Downloads/test/outputs\\fall044_jpg.rf.9c786e1209dae15e234cc5df07e982e9.jpg\n"
     ]
    },
    {
     "name": "stderr",
     "output_type": "stream",
     "text": [
      "C:\\Users/dell/yolov5\\models\\common.py:345: FutureWarning: `torch.cuda.amp.autocast(args...)` is deprecated. Please use `torch.amp.autocast('cuda', args...)` instead.\n",
      "  with amp.autocast(enabled=p.device.type != 'cpu'):\n"
     ]
    },
    {
     "name": "stdout",
     "output_type": "stream",
     "text": [
      "Image sauvegardée : C:/Users/dell/Downloads/test/outputs\\fall048_jpg.rf.6f087a8902879bad337dd531943dbf86.jpg\n"
     ]
    },
    {
     "name": "stderr",
     "output_type": "stream",
     "text": [
      "C:\\Users/dell/yolov5\\models\\common.py:345: FutureWarning: `torch.cuda.amp.autocast(args...)` is deprecated. Please use `torch.amp.autocast('cuda', args...)` instead.\n",
      "  with amp.autocast(enabled=p.device.type != 'cpu'):\n"
     ]
    },
    {
     "name": "stdout",
     "output_type": "stream",
     "text": [
      "Image sauvegardée : C:/Users/dell/Downloads/test/outputs\\fall049_jpg.rf.35ae2e906f52c899fee67ae1adf815c0.jpg\n"
     ]
    },
    {
     "name": "stderr",
     "output_type": "stream",
     "text": [
      "C:\\Users/dell/yolov5\\models\\common.py:345: FutureWarning: `torch.cuda.amp.autocast(args...)` is deprecated. Please use `torch.amp.autocast('cuda', args...)` instead.\n",
      "  with amp.autocast(enabled=p.device.type != 'cpu'):\n"
     ]
    },
    {
     "name": "stdout",
     "output_type": "stream",
     "text": [
      "Image sauvegardée : C:/Users/dell/Downloads/test/outputs\\fall072_jpg.rf.d9c0c7d9500abca86c91b67733ad6313.jpg\n"
     ]
    },
    {
     "name": "stderr",
     "output_type": "stream",
     "text": [
      "C:\\Users/dell/yolov5\\models\\common.py:345: FutureWarning: `torch.cuda.amp.autocast(args...)` is deprecated. Please use `torch.amp.autocast('cuda', args...)` instead.\n",
      "  with amp.autocast(enabled=p.device.type != 'cpu'):\n"
     ]
    },
    {
     "name": "stdout",
     "output_type": "stream",
     "text": [
      "Image sauvegardée : C:/Users/dell/Downloads/test/outputs\\fall073_jpg.rf.9dd7934ca948b6359ece0245c78cb0ac.jpg\n"
     ]
    },
    {
     "name": "stderr",
     "output_type": "stream",
     "text": [
      "C:\\Users/dell/yolov5\\models\\common.py:345: FutureWarning: `torch.cuda.amp.autocast(args...)` is deprecated. Please use `torch.amp.autocast('cuda', args...)` instead.\n",
      "  with amp.autocast(enabled=p.device.type != 'cpu'):\n"
     ]
    },
    {
     "name": "stdout",
     "output_type": "stream",
     "text": [
      "Image sauvegardée : C:/Users/dell/Downloads/test/outputs\\fall084_jpg.rf.fd1b66af94668a67648e45d00aee9e37.jpg\n"
     ]
    },
    {
     "name": "stderr",
     "output_type": "stream",
     "text": [
      "C:\\Users/dell/yolov5\\models\\common.py:345: FutureWarning: `torch.cuda.amp.autocast(args...)` is deprecated. Please use `torch.amp.autocast('cuda', args...)` instead.\n",
      "  with amp.autocast(enabled=p.device.type != 'cpu'):\n"
     ]
    },
    {
     "name": "stdout",
     "output_type": "stream",
     "text": [
      "Image sauvegardée : C:/Users/dell/Downloads/test/outputs\\fall091_jpg.rf.e967c418dd6339c18ab7111e7bf6f13b.jpg\n"
     ]
    },
    {
     "name": "stderr",
     "output_type": "stream",
     "text": [
      "C:\\Users/dell/yolov5\\models\\common.py:345: FutureWarning: `torch.cuda.amp.autocast(args...)` is deprecated. Please use `torch.amp.autocast('cuda', args...)` instead.\n",
      "  with amp.autocast(enabled=p.device.type != 'cpu'):\n"
     ]
    },
    {
     "name": "stdout",
     "output_type": "stream",
     "text": [
      "Image sauvegardée : C:/Users/dell/Downloads/test/outputs\\fall110_jpg.rf.c921b8e3b97943929dea435a6dfd1ea0.jpg\n"
     ]
    },
    {
     "name": "stderr",
     "output_type": "stream",
     "text": [
      "C:\\Users/dell/yolov5\\models\\common.py:345: FutureWarning: `torch.cuda.amp.autocast(args...)` is deprecated. Please use `torch.amp.autocast('cuda', args...)` instead.\n",
      "  with amp.autocast(enabled=p.device.type != 'cpu'):\n"
     ]
    },
    {
     "name": "stdout",
     "output_type": "stream",
     "text": [
      "Image sauvegardée : C:/Users/dell/Downloads/test/outputs\\fall112_jpg.rf.94ce5a1305faac8756fa0a3f66ab4674.jpg\n"
     ]
    },
    {
     "name": "stderr",
     "output_type": "stream",
     "text": [
      "C:\\Users/dell/yolov5\\models\\common.py:345: FutureWarning: `torch.cuda.amp.autocast(args...)` is deprecated. Please use `torch.amp.autocast('cuda', args...)` instead.\n",
      "  with amp.autocast(enabled=p.device.type != 'cpu'):\n"
     ]
    },
    {
     "name": "stdout",
     "output_type": "stream",
     "text": [
      "Image sauvegardée : C:/Users/dell/Downloads/test/outputs\\fall113_jpg.rf.1d6508fe85c8195350d12b6cffbdd5f5.jpg\n"
     ]
    },
    {
     "name": "stderr",
     "output_type": "stream",
     "text": [
      "C:\\Users/dell/yolov5\\models\\common.py:345: FutureWarning: `torch.cuda.amp.autocast(args...)` is deprecated. Please use `torch.amp.autocast('cuda', args...)` instead.\n",
      "  with amp.autocast(enabled=p.device.type != 'cpu'):\n"
     ]
    },
    {
     "name": "stdout",
     "output_type": "stream",
     "text": [
      "Image sauvegardée : C:/Users/dell/Downloads/test/outputs\\fall130_jpg.rf.0146d96e159921d9f3144bc62d5abd84.jpg\n"
     ]
    },
    {
     "name": "stderr",
     "output_type": "stream",
     "text": [
      "C:\\Users/dell/yolov5\\models\\common.py:345: FutureWarning: `torch.cuda.amp.autocast(args...)` is deprecated. Please use `torch.amp.autocast('cuda', args...)` instead.\n",
      "  with amp.autocast(enabled=p.device.type != 'cpu'):\n"
     ]
    },
    {
     "name": "stdout",
     "output_type": "stream",
     "text": [
      "Image sauvegardée : C:/Users/dell/Downloads/test/outputs\\fall140_jpg.rf.c3f3be9fcf8b6ff638c180e90911af60.jpg\n"
     ]
    },
    {
     "name": "stderr",
     "output_type": "stream",
     "text": [
      "C:\\Users/dell/yolov5\\models\\common.py:345: FutureWarning: `torch.cuda.amp.autocast(args...)` is deprecated. Please use `torch.amp.autocast('cuda', args...)` instead.\n",
      "  with amp.autocast(enabled=p.device.type != 'cpu'):\n"
     ]
    },
    {
     "name": "stdout",
     "output_type": "stream",
     "text": [
      "Image sauvegardée : C:/Users/dell/Downloads/test/outputs\\fall150_jpg.rf.4d1e6c9b735c9f2be76525946939147e.jpg\n"
     ]
    },
    {
     "name": "stderr",
     "output_type": "stream",
     "text": [
      "C:\\Users/dell/yolov5\\models\\common.py:345: FutureWarning: `torch.cuda.amp.autocast(args...)` is deprecated. Please use `torch.amp.autocast('cuda', args...)` instead.\n",
      "  with amp.autocast(enabled=p.device.type != 'cpu'):\n"
     ]
    },
    {
     "name": "stdout",
     "output_type": "stream",
     "text": [
      "Image sauvegardée : C:/Users/dell/Downloads/test/outputs\\fall153_jpg.rf.a5ecbd5b6073fbaefdc73e66a482be8e.jpg\n"
     ]
    },
    {
     "name": "stderr",
     "output_type": "stream",
     "text": [
      "C:\\Users/dell/yolov5\\models\\common.py:345: FutureWarning: `torch.cuda.amp.autocast(args...)` is deprecated. Please use `torch.amp.autocast('cuda', args...)` instead.\n",
      "  with amp.autocast(enabled=p.device.type != 'cpu'):\n"
     ]
    },
    {
     "name": "stdout",
     "output_type": "stream",
     "text": [
      "Image sauvegardée : C:/Users/dell/Downloads/test/outputs\\fall185_jpg.rf.7179b8d5371589313ea3a11460c4699d.jpg\n"
     ]
    },
    {
     "name": "stderr",
     "output_type": "stream",
     "text": [
      "C:\\Users/dell/yolov5\\models\\common.py:345: FutureWarning: `torch.cuda.amp.autocast(args...)` is deprecated. Please use `torch.amp.autocast('cuda', args...)` instead.\n",
      "  with amp.autocast(enabled=p.device.type != 'cpu'):\n"
     ]
    },
    {
     "name": "stdout",
     "output_type": "stream",
     "text": [
      "Image sauvegardée : C:/Users/dell/Downloads/test/outputs\\fall188_jpg.rf.455334b39f55d5f3cb418e002ddd9d36.jpg\n"
     ]
    },
    {
     "name": "stderr",
     "output_type": "stream",
     "text": [
      "C:\\Users/dell/yolov5\\models\\common.py:345: FutureWarning: `torch.cuda.amp.autocast(args...)` is deprecated. Please use `torch.amp.autocast('cuda', args...)` instead.\n",
      "  with amp.autocast(enabled=p.device.type != 'cpu'):\n"
     ]
    },
    {
     "name": "stdout",
     "output_type": "stream",
     "text": [
      "Image sauvegardée : C:/Users/dell/Downloads/test/outputs\\fall194_jpg.rf.1723178fc275757c213a5133432b0bf8.jpg\n"
     ]
    },
    {
     "name": "stderr",
     "output_type": "stream",
     "text": [
      "C:\\Users/dell/yolov5\\models\\common.py:345: FutureWarning: `torch.cuda.amp.autocast(args...)` is deprecated. Please use `torch.amp.autocast('cuda', args...)` instead.\n",
      "  with amp.autocast(enabled=p.device.type != 'cpu'):\n"
     ]
    },
    {
     "name": "stdout",
     "output_type": "stream",
     "text": [
      "Image sauvegardée : C:/Users/dell/Downloads/test/outputs\\frame_103_jpg.rf.f7b6026ad8dfe0163784519a8e241057.jpg\n"
     ]
    },
    {
     "name": "stderr",
     "output_type": "stream",
     "text": [
      "C:\\Users/dell/yolov5\\models\\common.py:345: FutureWarning: `torch.cuda.amp.autocast(args...)` is deprecated. Please use `torch.amp.autocast('cuda', args...)` instead.\n",
      "  with amp.autocast(enabled=p.device.type != 'cpu'):\n"
     ]
    },
    {
     "name": "stdout",
     "output_type": "stream",
     "text": [
      "Image sauvegardée : C:/Users/dell/Downloads/test/outputs\\frame_1084_jpg.rf.8e16c933ff73022e4e901b8dfe07a1e5.jpg\n"
     ]
    },
    {
     "name": "stderr",
     "output_type": "stream",
     "text": [
      "C:\\Users/dell/yolov5\\models\\common.py:345: FutureWarning: `torch.cuda.amp.autocast(args...)` is deprecated. Please use `torch.amp.autocast('cuda', args...)` instead.\n",
      "  with amp.autocast(enabled=p.device.type != 'cpu'):\n"
     ]
    },
    {
     "name": "stdout",
     "output_type": "stream",
     "text": [
      "Image sauvegardée : C:/Users/dell/Downloads/test/outputs\\frame_108_jpg.rf.738388cbb6bc760eb4b366b6f445d73f.jpg\n"
     ]
    },
    {
     "name": "stderr",
     "output_type": "stream",
     "text": [
      "C:\\Users/dell/yolov5\\models\\common.py:345: FutureWarning: `torch.cuda.amp.autocast(args...)` is deprecated. Please use `torch.amp.autocast('cuda', args...)` instead.\n",
      "  with amp.autocast(enabled=p.device.type != 'cpu'):\n"
     ]
    },
    {
     "name": "stdout",
     "output_type": "stream",
     "text": [
      "Image sauvegardée : C:/Users/dell/Downloads/test/outputs\\frame_109_jpg.rf.eadd8f71f5b5063a1369ac19ad3af850.jpg\n"
     ]
    },
    {
     "name": "stderr",
     "output_type": "stream",
     "text": [
      "C:\\Users/dell/yolov5\\models\\common.py:345: FutureWarning: `torch.cuda.amp.autocast(args...)` is deprecated. Please use `torch.amp.autocast('cuda', args...)` instead.\n",
      "  with amp.autocast(enabled=p.device.type != 'cpu'):\n"
     ]
    },
    {
     "name": "stdout",
     "output_type": "stream",
     "text": [
      "Image sauvegardée : C:/Users/dell/Downloads/test/outputs\\frame_111_jpg.rf.2b4ddbdabb6470c8088731212bc308b0.jpg\n"
     ]
    },
    {
     "name": "stderr",
     "output_type": "stream",
     "text": [
      "C:\\Users/dell/yolov5\\models\\common.py:345: FutureWarning: `torch.cuda.amp.autocast(args...)` is deprecated. Please use `torch.amp.autocast('cuda', args...)` instead.\n",
      "  with amp.autocast(enabled=p.device.type != 'cpu'):\n"
     ]
    },
    {
     "name": "stdout",
     "output_type": "stream",
     "text": [
      "Image sauvegardée : C:/Users/dell/Downloads/test/outputs\\frame_121_jpg.rf.aa37fac3a9295ae90944c51e27f23f25.jpg\n"
     ]
    },
    {
     "name": "stderr",
     "output_type": "stream",
     "text": [
      "C:\\Users/dell/yolov5\\models\\common.py:345: FutureWarning: `torch.cuda.amp.autocast(args...)` is deprecated. Please use `torch.amp.autocast('cuda', args...)` instead.\n",
      "  with amp.autocast(enabled=p.device.type != 'cpu'):\n"
     ]
    },
    {
     "name": "stdout",
     "output_type": "stream",
     "text": [
      "Image sauvegardée : C:/Users/dell/Downloads/test/outputs\\frame_125_jpg.rf.684635c4103e542eab9b26f0f0a8275d.jpg\n"
     ]
    },
    {
     "name": "stderr",
     "output_type": "stream",
     "text": [
      "C:\\Users/dell/yolov5\\models\\common.py:345: FutureWarning: `torch.cuda.amp.autocast(args...)` is deprecated. Please use `torch.amp.autocast('cuda', args...)` instead.\n",
      "  with amp.autocast(enabled=p.device.type != 'cpu'):\n"
     ]
    },
    {
     "name": "stdout",
     "output_type": "stream",
     "text": [
      "Image sauvegardée : C:/Users/dell/Downloads/test/outputs\\frame_1307_jpg.rf.801d7a70c55927257f33fe4e31cb5049.jpg\n"
     ]
    },
    {
     "name": "stderr",
     "output_type": "stream",
     "text": [
      "C:\\Users/dell/yolov5\\models\\common.py:345: FutureWarning: `torch.cuda.amp.autocast(args...)` is deprecated. Please use `torch.amp.autocast('cuda', args...)` instead.\n",
      "  with amp.autocast(enabled=p.device.type != 'cpu'):\n"
     ]
    },
    {
     "name": "stdout",
     "output_type": "stream",
     "text": [
      "Image sauvegardée : C:/Users/dell/Downloads/test/outputs\\frame_1323_jpg.rf.df3c39eba3ec79ec0351fd2b2b988ae0.jpg\n"
     ]
    },
    {
     "name": "stderr",
     "output_type": "stream",
     "text": [
      "C:\\Users/dell/yolov5\\models\\common.py:345: FutureWarning: `torch.cuda.amp.autocast(args...)` is deprecated. Please use `torch.amp.autocast('cuda', args...)` instead.\n",
      "  with amp.autocast(enabled=p.device.type != 'cpu'):\n"
     ]
    },
    {
     "name": "stdout",
     "output_type": "stream",
     "text": [
      "Image sauvegardée : C:/Users/dell/Downloads/test/outputs\\frame_1325_jpg.rf.0c2ad137c59a7e0cb446218b3a63f96c.jpg\n"
     ]
    },
    {
     "name": "stderr",
     "output_type": "stream",
     "text": [
      "C:\\Users/dell/yolov5\\models\\common.py:345: FutureWarning: `torch.cuda.amp.autocast(args...)` is deprecated. Please use `torch.amp.autocast('cuda', args...)` instead.\n",
      "  with amp.autocast(enabled=p.device.type != 'cpu'):\n"
     ]
    },
    {
     "name": "stdout",
     "output_type": "stream",
     "text": [
      "Image sauvegardée : C:/Users/dell/Downloads/test/outputs\\frame_1327_jpg.rf.a31441ab26cd537d364bd99be26bf384.jpg\n"
     ]
    },
    {
     "name": "stderr",
     "output_type": "stream",
     "text": [
      "C:\\Users/dell/yolov5\\models\\common.py:345: FutureWarning: `torch.cuda.amp.autocast(args...)` is deprecated. Please use `torch.amp.autocast('cuda', args...)` instead.\n",
      "  with amp.autocast(enabled=p.device.type != 'cpu'):\n"
     ]
    },
    {
     "name": "stdout",
     "output_type": "stream",
     "text": [
      "Image sauvegardée : C:/Users/dell/Downloads/test/outputs\\frame_137_jpg.rf.82aace42c014352b7b617c73ca323acc.jpg\n"
     ]
    },
    {
     "name": "stderr",
     "output_type": "stream",
     "text": [
      "C:\\Users/dell/yolov5\\models\\common.py:345: FutureWarning: `torch.cuda.amp.autocast(args...)` is deprecated. Please use `torch.amp.autocast('cuda', args...)` instead.\n",
      "  with amp.autocast(enabled=p.device.type != 'cpu'):\n"
     ]
    },
    {
     "name": "stdout",
     "output_type": "stream",
     "text": [
      "Image sauvegardée : C:/Users/dell/Downloads/test/outputs\\frame_155_jpg.rf.5ef1969f6e7095fa4adbb13afd71023c.jpg\n"
     ]
    },
    {
     "name": "stderr",
     "output_type": "stream",
     "text": [
      "C:\\Users/dell/yolov5\\models\\common.py:345: FutureWarning: `torch.cuda.amp.autocast(args...)` is deprecated. Please use `torch.amp.autocast('cuda', args...)` instead.\n",
      "  with amp.autocast(enabled=p.device.type != 'cpu'):\n"
     ]
    },
    {
     "name": "stdout",
     "output_type": "stream",
     "text": [
      "Image sauvegardée : C:/Users/dell/Downloads/test/outputs\\frame_164_jpg.rf.5f204ff560ff273550fd6951c1b2ff5c.jpg\n"
     ]
    },
    {
     "name": "stderr",
     "output_type": "stream",
     "text": [
      "C:\\Users/dell/yolov5\\models\\common.py:345: FutureWarning: `torch.cuda.amp.autocast(args...)` is deprecated. Please use `torch.amp.autocast('cuda', args...)` instead.\n",
      "  with amp.autocast(enabled=p.device.type != 'cpu'):\n"
     ]
    },
    {
     "name": "stdout",
     "output_type": "stream",
     "text": [
      "Image sauvegardée : C:/Users/dell/Downloads/test/outputs\\frame_1654_jpg.rf.6fc339555612c284112ca92fc9f6160a.jpg\n"
     ]
    },
    {
     "name": "stderr",
     "output_type": "stream",
     "text": [
      "C:\\Users/dell/yolov5\\models\\common.py:345: FutureWarning: `torch.cuda.amp.autocast(args...)` is deprecated. Please use `torch.amp.autocast('cuda', args...)` instead.\n",
      "  with amp.autocast(enabled=p.device.type != 'cpu'):\n"
     ]
    },
    {
     "name": "stdout",
     "output_type": "stream",
     "text": [
      "Image sauvegardée : C:/Users/dell/Downloads/test/outputs\\frame_165_jpg.rf.894b02a62c6ba13953c3dcb0e6cb5ac1.jpg\n"
     ]
    },
    {
     "name": "stderr",
     "output_type": "stream",
     "text": [
      "C:\\Users/dell/yolov5\\models\\common.py:345: FutureWarning: `torch.cuda.amp.autocast(args...)` is deprecated. Please use `torch.amp.autocast('cuda', args...)` instead.\n",
      "  with amp.autocast(enabled=p.device.type != 'cpu'):\n"
     ]
    },
    {
     "name": "stdout",
     "output_type": "stream",
     "text": [
      "Image sauvegardée : C:/Users/dell/Downloads/test/outputs\\frame_1667_jpg.rf.9e262a7332808687ef02fec12e139133.jpg\n"
     ]
    },
    {
     "name": "stderr",
     "output_type": "stream",
     "text": [
      "C:\\Users/dell/yolov5\\models\\common.py:345: FutureWarning: `torch.cuda.amp.autocast(args...)` is deprecated. Please use `torch.amp.autocast('cuda', args...)` instead.\n",
      "  with amp.autocast(enabled=p.device.type != 'cpu'):\n"
     ]
    },
    {
     "name": "stdout",
     "output_type": "stream",
     "text": [
      "Image sauvegardée : C:/Users/dell/Downloads/test/outputs\\frame_1824_jpg.rf.056bf9fcfdd28aa8817f8bfcde993a80.jpg\n"
     ]
    },
    {
     "name": "stderr",
     "output_type": "stream",
     "text": [
      "C:\\Users/dell/yolov5\\models\\common.py:345: FutureWarning: `torch.cuda.amp.autocast(args...)` is deprecated. Please use `torch.amp.autocast('cuda', args...)` instead.\n",
      "  with amp.autocast(enabled=p.device.type != 'cpu'):\n"
     ]
    },
    {
     "name": "stdout",
     "output_type": "stream",
     "text": [
      "Image sauvegardée : C:/Users/dell/Downloads/test/outputs\\frame_1826_jpg.rf.783f191c40856bd0804aaba8d3071dd7.jpg\n"
     ]
    },
    {
     "name": "stderr",
     "output_type": "stream",
     "text": [
      "C:\\Users/dell/yolov5\\models\\common.py:345: FutureWarning: `torch.cuda.amp.autocast(args...)` is deprecated. Please use `torch.amp.autocast('cuda', args...)` instead.\n",
      "  with amp.autocast(enabled=p.device.type != 'cpu'):\n"
     ]
    },
    {
     "name": "stdout",
     "output_type": "stream",
     "text": [
      "Image sauvegardée : C:/Users/dell/Downloads/test/outputs\\frame_184_jpg.rf.da8b7c6181d99fec0a9f060292873537.jpg\n"
     ]
    },
    {
     "name": "stderr",
     "output_type": "stream",
     "text": [
      "C:\\Users/dell/yolov5\\models\\common.py:345: FutureWarning: `torch.cuda.amp.autocast(args...)` is deprecated. Please use `torch.amp.autocast('cuda', args...)` instead.\n",
      "  with amp.autocast(enabled=p.device.type != 'cpu'):\n"
     ]
    },
    {
     "name": "stdout",
     "output_type": "stream",
     "text": [
      "Image sauvegardée : C:/Users/dell/Downloads/test/outputs\\frame_189_jpg.rf.4213ea591ed1e986ae98d6d8eef5b736.jpg\n"
     ]
    },
    {
     "name": "stderr",
     "output_type": "stream",
     "text": [
      "C:\\Users/dell/yolov5\\models\\common.py:345: FutureWarning: `torch.cuda.amp.autocast(args...)` is deprecated. Please use `torch.amp.autocast('cuda', args...)` instead.\n",
      "  with amp.autocast(enabled=p.device.type != 'cpu'):\n"
     ]
    },
    {
     "name": "stdout",
     "output_type": "stream",
     "text": [
      "Image sauvegardée : C:/Users/dell/Downloads/test/outputs\\frame_193_jpg.rf.c6ae7d5e76989cc0d5647ad9b50ca2a8.jpg\n"
     ]
    },
    {
     "name": "stderr",
     "output_type": "stream",
     "text": [
      "C:\\Users/dell/yolov5\\models\\common.py:345: FutureWarning: `torch.cuda.amp.autocast(args...)` is deprecated. Please use `torch.amp.autocast('cuda', args...)` instead.\n",
      "  with amp.autocast(enabled=p.device.type != 'cpu'):\n"
     ]
    },
    {
     "name": "stdout",
     "output_type": "stream",
     "text": [
      "Image sauvegardée : C:/Users/dell/Downloads/test/outputs\\frame_197_jpg.rf.e460b55f779b0ed562bf4995d6363afb.jpg\n"
     ]
    },
    {
     "name": "stderr",
     "output_type": "stream",
     "text": [
      "C:\\Users/dell/yolov5\\models\\common.py:345: FutureWarning: `torch.cuda.amp.autocast(args...)` is deprecated. Please use `torch.amp.autocast('cuda', args...)` instead.\n",
      "  with amp.autocast(enabled=p.device.type != 'cpu'):\n"
     ]
    },
    {
     "name": "stdout",
     "output_type": "stream",
     "text": [
      "Image sauvegardée : C:/Users/dell/Downloads/test/outputs\\frame_2086_jpg.rf.0908cf9c05c8894c35c42d765b0f447e.jpg\n"
     ]
    },
    {
     "name": "stderr",
     "output_type": "stream",
     "text": [
      "C:\\Users/dell/yolov5\\models\\common.py:345: FutureWarning: `torch.cuda.amp.autocast(args...)` is deprecated. Please use `torch.amp.autocast('cuda', args...)` instead.\n",
      "  with amp.autocast(enabled=p.device.type != 'cpu'):\n"
     ]
    },
    {
     "name": "stdout",
     "output_type": "stream",
     "text": [
      "Image sauvegardée : C:/Users/dell/Downloads/test/outputs\\frame_2088_jpg.rf.162cf278c3f29771280add6e485d7f34.jpg\n"
     ]
    },
    {
     "name": "stderr",
     "output_type": "stream",
     "text": [
      "C:\\Users/dell/yolov5\\models\\common.py:345: FutureWarning: `torch.cuda.amp.autocast(args...)` is deprecated. Please use `torch.amp.autocast('cuda', args...)` instead.\n",
      "  with amp.autocast(enabled=p.device.type != 'cpu'):\n"
     ]
    },
    {
     "name": "stdout",
     "output_type": "stream",
     "text": [
      "Image sauvegardée : C:/Users/dell/Downloads/test/outputs\\frame_2100_jpg.rf.3701c2d13651afb945eedc696c0a5ee9.jpg\n"
     ]
    },
    {
     "name": "stderr",
     "output_type": "stream",
     "text": [
      "C:\\Users/dell/yolov5\\models\\common.py:345: FutureWarning: `torch.cuda.amp.autocast(args...)` is deprecated. Please use `torch.amp.autocast('cuda', args...)` instead.\n",
      "  with amp.autocast(enabled=p.device.type != 'cpu'):\n"
     ]
    },
    {
     "name": "stdout",
     "output_type": "stream",
     "text": [
      "Image sauvegardée : C:/Users/dell/Downloads/test/outputs\\frame_2224_jpg.rf.4f0c04bb44ea23a69c8f17c37e7edb9c.jpg\n"
     ]
    },
    {
     "name": "stderr",
     "output_type": "stream",
     "text": [
      "C:\\Users/dell/yolov5\\models\\common.py:345: FutureWarning: `torch.cuda.amp.autocast(args...)` is deprecated. Please use `torch.amp.autocast('cuda', args...)` instead.\n",
      "  with amp.autocast(enabled=p.device.type != 'cpu'):\n"
     ]
    },
    {
     "name": "stdout",
     "output_type": "stream",
     "text": [
      "Image sauvegardée : C:/Users/dell/Downloads/test/outputs\\frame_2282_jpg.rf.4a02bcde70d9c20356ec6268e3cbf69d.jpg\n"
     ]
    },
    {
     "name": "stderr",
     "output_type": "stream",
     "text": [
      "C:\\Users/dell/yolov5\\models\\common.py:345: FutureWarning: `torch.cuda.amp.autocast(args...)` is deprecated. Please use `torch.amp.autocast('cuda', args...)` instead.\n",
      "  with amp.autocast(enabled=p.device.type != 'cpu'):\n"
     ]
    },
    {
     "name": "stdout",
     "output_type": "stream",
     "text": [
      "Image sauvegardée : C:/Users/dell/Downloads/test/outputs\\frame_243_jpg.rf.8924dd93c595da387b11b2fad6afd86e.jpg\n"
     ]
    },
    {
     "name": "stderr",
     "output_type": "stream",
     "text": [
      "C:\\Users/dell/yolov5\\models\\common.py:345: FutureWarning: `torch.cuda.amp.autocast(args...)` is deprecated. Please use `torch.amp.autocast('cuda', args...)` instead.\n",
      "  with amp.autocast(enabled=p.device.type != 'cpu'):\n"
     ]
    },
    {
     "name": "stdout",
     "output_type": "stream",
     "text": [
      "Image sauvegardée : C:/Users/dell/Downloads/test/outputs\\frame_248_jpg.rf.17f039f2e096ccbd3b77c90d64fa8082.jpg\n"
     ]
    },
    {
     "name": "stderr",
     "output_type": "stream",
     "text": [
      "C:\\Users/dell/yolov5\\models\\common.py:345: FutureWarning: `torch.cuda.amp.autocast(args...)` is deprecated. Please use `torch.amp.autocast('cuda', args...)` instead.\n",
      "  with amp.autocast(enabled=p.device.type != 'cpu'):\n"
     ]
    },
    {
     "name": "stdout",
     "output_type": "stream",
     "text": [
      "Image sauvegardée : C:/Users/dell/Downloads/test/outputs\\frame_251_jpg.rf.7e561d695776985d3c53cc19ac23310d.jpg\n"
     ]
    },
    {
     "name": "stderr",
     "output_type": "stream",
     "text": [
      "C:\\Users/dell/yolov5\\models\\common.py:345: FutureWarning: `torch.cuda.amp.autocast(args...)` is deprecated. Please use `torch.amp.autocast('cuda', args...)` instead.\n",
      "  with amp.autocast(enabled=p.device.type != 'cpu'):\n"
     ]
    },
    {
     "name": "stdout",
     "output_type": "stream",
     "text": [
      "Image sauvegardée : C:/Users/dell/Downloads/test/outputs\\frame_254_jpg.rf.7f04f1cb72ad16177431ed4aab1f6cfe.jpg\n"
     ]
    },
    {
     "name": "stderr",
     "output_type": "stream",
     "text": [
      "C:\\Users/dell/yolov5\\models\\common.py:345: FutureWarning: `torch.cuda.amp.autocast(args...)` is deprecated. Please use `torch.amp.autocast('cuda', args...)` instead.\n",
      "  with amp.autocast(enabled=p.device.type != 'cpu'):\n"
     ]
    },
    {
     "name": "stdout",
     "output_type": "stream",
     "text": [
      "Image sauvegardée : C:/Users/dell/Downloads/test/outputs\\frame_255_jpg.rf.4428711138281e349cccfab2a54ed854.jpg\n"
     ]
    },
    {
     "name": "stderr",
     "output_type": "stream",
     "text": [
      "C:\\Users/dell/yolov5\\models\\common.py:345: FutureWarning: `torch.cuda.amp.autocast(args...)` is deprecated. Please use `torch.amp.autocast('cuda', args...)` instead.\n",
      "  with amp.autocast(enabled=p.device.type != 'cpu'):\n"
     ]
    },
    {
     "name": "stdout",
     "output_type": "stream",
     "text": [
      "Image sauvegardée : C:/Users/dell/Downloads/test/outputs\\frame_265_jpg.rf.6caf550cc353ea3cf052302d61d3095b.jpg\n"
     ]
    },
    {
     "name": "stderr",
     "output_type": "stream",
     "text": [
      "C:\\Users/dell/yolov5\\models\\common.py:345: FutureWarning: `torch.cuda.amp.autocast(args...)` is deprecated. Please use `torch.amp.autocast('cuda', args...)` instead.\n",
      "  with amp.autocast(enabled=p.device.type != 'cpu'):\n"
     ]
    },
    {
     "name": "stdout",
     "output_type": "stream",
     "text": [
      "Image sauvegardée : C:/Users/dell/Downloads/test/outputs\\frame_282_jpg.rf.854cf05a2ecb9631c83ed5b394feafae.jpg\n"
     ]
    },
    {
     "name": "stderr",
     "output_type": "stream",
     "text": [
      "C:\\Users/dell/yolov5\\models\\common.py:345: FutureWarning: `torch.cuda.amp.autocast(args...)` is deprecated. Please use `torch.amp.autocast('cuda', args...)` instead.\n",
      "  with amp.autocast(enabled=p.device.type != 'cpu'):\n"
     ]
    },
    {
     "name": "stdout",
     "output_type": "stream",
     "text": [
      "Image sauvegardée : C:/Users/dell/Downloads/test/outputs\\frame_284_jpg.rf.bdd6f119c54c587077f153e820fac922.jpg\n"
     ]
    },
    {
     "name": "stderr",
     "output_type": "stream",
     "text": [
      "C:\\Users/dell/yolov5\\models\\common.py:345: FutureWarning: `torch.cuda.amp.autocast(args...)` is deprecated. Please use `torch.amp.autocast('cuda', args...)` instead.\n",
      "  with amp.autocast(enabled=p.device.type != 'cpu'):\n"
     ]
    },
    {
     "name": "stdout",
     "output_type": "stream",
     "text": [
      "Image sauvegardée : C:/Users/dell/Downloads/test/outputs\\frame_286_jpg.rf.3eafda390eba85bcacd6c973d3fc06d8.jpg\n"
     ]
    },
    {
     "name": "stderr",
     "output_type": "stream",
     "text": [
      "C:\\Users/dell/yolov5\\models\\common.py:345: FutureWarning: `torch.cuda.amp.autocast(args...)` is deprecated. Please use `torch.amp.autocast('cuda', args...)` instead.\n",
      "  with amp.autocast(enabled=p.device.type != 'cpu'):\n"
     ]
    },
    {
     "name": "stdout",
     "output_type": "stream",
     "text": [
      "Image sauvegardée : C:/Users/dell/Downloads/test/outputs\\frame_287_jpg.rf.d029e284afa421022cc0c742a6ba73a1.jpg\n"
     ]
    },
    {
     "name": "stderr",
     "output_type": "stream",
     "text": [
      "C:\\Users/dell/yolov5\\models\\common.py:345: FutureWarning: `torch.cuda.amp.autocast(args...)` is deprecated. Please use `torch.amp.autocast('cuda', args...)` instead.\n",
      "  with amp.autocast(enabled=p.device.type != 'cpu'):\n"
     ]
    },
    {
     "name": "stdout",
     "output_type": "stream",
     "text": [
      "Image sauvegardée : C:/Users/dell/Downloads/test/outputs\\frame_291_jpg.rf.1b771e7eeda56f7f169660d3259d764b.jpg\n"
     ]
    },
    {
     "name": "stderr",
     "output_type": "stream",
     "text": [
      "C:\\Users/dell/yolov5\\models\\common.py:345: FutureWarning: `torch.cuda.amp.autocast(args...)` is deprecated. Please use `torch.amp.autocast('cuda', args...)` instead.\n",
      "  with amp.autocast(enabled=p.device.type != 'cpu'):\n"
     ]
    },
    {
     "name": "stdout",
     "output_type": "stream",
     "text": [
      "Image sauvegardée : C:/Users/dell/Downloads/test/outputs\\frame_292_jpg.rf.39fee933197450f0b354d63bf72427fc.jpg\n"
     ]
    },
    {
     "name": "stderr",
     "output_type": "stream",
     "text": [
      "C:\\Users/dell/yolov5\\models\\common.py:345: FutureWarning: `torch.cuda.amp.autocast(args...)` is deprecated. Please use `torch.amp.autocast('cuda', args...)` instead.\n",
      "  with amp.autocast(enabled=p.device.type != 'cpu'):\n"
     ]
    },
    {
     "name": "stdout",
     "output_type": "stream",
     "text": [
      "Image sauvegardée : C:/Users/dell/Downloads/test/outputs\\frame_294_jpg.rf.ad6e71e375c2061c77abea8c0cfd45ac.jpg\n"
     ]
    },
    {
     "name": "stderr",
     "output_type": "stream",
     "text": [
      "C:\\Users/dell/yolov5\\models\\common.py:345: FutureWarning: `torch.cuda.amp.autocast(args...)` is deprecated. Please use `torch.amp.autocast('cuda', args...)` instead.\n",
      "  with amp.autocast(enabled=p.device.type != 'cpu'):\n"
     ]
    },
    {
     "name": "stdout",
     "output_type": "stream",
     "text": [
      "Image sauvegardée : C:/Users/dell/Downloads/test/outputs\\frame_296_jpg.rf.f0243ebcbf7bd30cf8753e74c3af1cb5.jpg\n"
     ]
    },
    {
     "name": "stderr",
     "output_type": "stream",
     "text": [
      "C:\\Users/dell/yolov5\\models\\common.py:345: FutureWarning: `torch.cuda.amp.autocast(args...)` is deprecated. Please use `torch.amp.autocast('cuda', args...)` instead.\n",
      "  with amp.autocast(enabled=p.device.type != 'cpu'):\n"
     ]
    },
    {
     "name": "stdout",
     "output_type": "stream",
     "text": [
      "Image sauvegardée : C:/Users/dell/Downloads/test/outputs\\frame_298_jpg.rf.0954672bb27ba67b44ab06e244d249c5.jpg\n"
     ]
    },
    {
     "name": "stderr",
     "output_type": "stream",
     "text": [
      "C:\\Users/dell/yolov5\\models\\common.py:345: FutureWarning: `torch.cuda.amp.autocast(args...)` is deprecated. Please use `torch.amp.autocast('cuda', args...)` instead.\n",
      "  with amp.autocast(enabled=p.device.type != 'cpu'):\n"
     ]
    },
    {
     "name": "stdout",
     "output_type": "stream",
     "text": [
      "Image sauvegardée : C:/Users/dell/Downloads/test/outputs\\frame_300_jpg.rf.4ec15fa60ec8a0782a2b4f2f9960727c.jpg\n"
     ]
    },
    {
     "name": "stderr",
     "output_type": "stream",
     "text": [
      "C:\\Users/dell/yolov5\\models\\common.py:345: FutureWarning: `torch.cuda.amp.autocast(args...)` is deprecated. Please use `torch.amp.autocast('cuda', args...)` instead.\n",
      "  with amp.autocast(enabled=p.device.type != 'cpu'):\n"
     ]
    },
    {
     "name": "stdout",
     "output_type": "stream",
     "text": [
      "Image sauvegardée : C:/Users/dell/Downloads/test/outputs\\frame_301_jpg.rf.4e82fcdad498740914063c82e9beeaed.jpg\n"
     ]
    },
    {
     "name": "stderr",
     "output_type": "stream",
     "text": [
      "C:\\Users/dell/yolov5\\models\\common.py:345: FutureWarning: `torch.cuda.amp.autocast(args...)` is deprecated. Please use `torch.amp.autocast('cuda', args...)` instead.\n",
      "  with amp.autocast(enabled=p.device.type != 'cpu'):\n"
     ]
    },
    {
     "name": "stdout",
     "output_type": "stream",
     "text": [
      "Image sauvegardée : C:/Users/dell/Downloads/test/outputs\\frame_302_jpg.rf.ee906ada0f6b9b3c4b8cf09b08ec4a7b.jpg\n"
     ]
    },
    {
     "name": "stderr",
     "output_type": "stream",
     "text": [
      "C:\\Users/dell/yolov5\\models\\common.py:345: FutureWarning: `torch.cuda.amp.autocast(args...)` is deprecated. Please use `torch.amp.autocast('cuda', args...)` instead.\n",
      "  with amp.autocast(enabled=p.device.type != 'cpu'):\n"
     ]
    },
    {
     "name": "stdout",
     "output_type": "stream",
     "text": [
      "Image sauvegardée : C:/Users/dell/Downloads/test/outputs\\frame_303_jpg.rf.c4392f4a9b44e3b99351924744500e4e.jpg\n"
     ]
    },
    {
     "name": "stderr",
     "output_type": "stream",
     "text": [
      "C:\\Users/dell/yolov5\\models\\common.py:345: FutureWarning: `torch.cuda.amp.autocast(args...)` is deprecated. Please use `torch.amp.autocast('cuda', args...)` instead.\n",
      "  with amp.autocast(enabled=p.device.type != 'cpu'):\n"
     ]
    },
    {
     "name": "stdout",
     "output_type": "stream",
     "text": [
      "Image sauvegardée : C:/Users/dell/Downloads/test/outputs\\frame_304_jpg.rf.41972be1aa56eb8820b64118b5229d49.jpg\n"
     ]
    },
    {
     "name": "stderr",
     "output_type": "stream",
     "text": [
      "C:\\Users/dell/yolov5\\models\\common.py:345: FutureWarning: `torch.cuda.amp.autocast(args...)` is deprecated. Please use `torch.amp.autocast('cuda', args...)` instead.\n",
      "  with amp.autocast(enabled=p.device.type != 'cpu'):\n"
     ]
    },
    {
     "name": "stdout",
     "output_type": "stream",
     "text": [
      "Image sauvegardée : C:/Users/dell/Downloads/test/outputs\\frame_306_jpg.rf.6463464ce7921e33cf0f77aa425c74f0.jpg\n"
     ]
    },
    {
     "name": "stderr",
     "output_type": "stream",
     "text": [
      "C:\\Users/dell/yolov5\\models\\common.py:345: FutureWarning: `torch.cuda.amp.autocast(args...)` is deprecated. Please use `torch.amp.autocast('cuda', args...)` instead.\n",
      "  with amp.autocast(enabled=p.device.type != 'cpu'):\n"
     ]
    },
    {
     "name": "stdout",
     "output_type": "stream",
     "text": [
      "Image sauvegardée : C:/Users/dell/Downloads/test/outputs\\frame_307_jpg.rf.8876cd77ba4130fc8a94be72dc12855d.jpg\n"
     ]
    },
    {
     "name": "stderr",
     "output_type": "stream",
     "text": [
      "C:\\Users/dell/yolov5\\models\\common.py:345: FutureWarning: `torch.cuda.amp.autocast(args...)` is deprecated. Please use `torch.amp.autocast('cuda', args...)` instead.\n",
      "  with amp.autocast(enabled=p.device.type != 'cpu'):\n"
     ]
    },
    {
     "name": "stdout",
     "output_type": "stream",
     "text": [
      "Image sauvegardée : C:/Users/dell/Downloads/test/outputs\\frame_308_jpg.rf.ab5853bb3563498d24dc2058314f4565.jpg\n"
     ]
    },
    {
     "name": "stderr",
     "output_type": "stream",
     "text": [
      "C:\\Users/dell/yolov5\\models\\common.py:345: FutureWarning: `torch.cuda.amp.autocast(args...)` is deprecated. Please use `torch.amp.autocast('cuda', args...)` instead.\n",
      "  with amp.autocast(enabled=p.device.type != 'cpu'):\n"
     ]
    },
    {
     "name": "stdout",
     "output_type": "stream",
     "text": [
      "Image sauvegardée : C:/Users/dell/Downloads/test/outputs\\frame_309_jpg.rf.4858745ff23ee2f40b64a31ab9057f24.jpg\n"
     ]
    },
    {
     "name": "stderr",
     "output_type": "stream",
     "text": [
      "C:\\Users/dell/yolov5\\models\\common.py:345: FutureWarning: `torch.cuda.amp.autocast(args...)` is deprecated. Please use `torch.amp.autocast('cuda', args...)` instead.\n",
      "  with amp.autocast(enabled=p.device.type != 'cpu'):\n"
     ]
    },
    {
     "name": "stdout",
     "output_type": "stream",
     "text": [
      "Image sauvegardée : C:/Users/dell/Downloads/test/outputs\\frame_310_jpg.rf.c85449f365499e84ee96b8a4de2c360e.jpg\n"
     ]
    },
    {
     "name": "stderr",
     "output_type": "stream",
     "text": [
      "C:\\Users/dell/yolov5\\models\\common.py:345: FutureWarning: `torch.cuda.amp.autocast(args...)` is deprecated. Please use `torch.amp.autocast('cuda', args...)` instead.\n",
      "  with amp.autocast(enabled=p.device.type != 'cpu'):\n"
     ]
    },
    {
     "name": "stdout",
     "output_type": "stream",
     "text": [
      "Image sauvegardée : C:/Users/dell/Downloads/test/outputs\\frame_311_jpg.rf.1cb664c8b6b41abf516e07bcd43d5992.jpg\n"
     ]
    },
    {
     "name": "stderr",
     "output_type": "stream",
     "text": [
      "C:\\Users/dell/yolov5\\models\\common.py:345: FutureWarning: `torch.cuda.amp.autocast(args...)` is deprecated. Please use `torch.amp.autocast('cuda', args...)` instead.\n",
      "  with amp.autocast(enabled=p.device.type != 'cpu'):\n"
     ]
    },
    {
     "name": "stdout",
     "output_type": "stream",
     "text": [
      "Image sauvegardée : C:/Users/dell/Downloads/test/outputs\\frame_312_jpg.rf.7db63cad236458f734a8871446dffed8.jpg\n"
     ]
    },
    {
     "name": "stderr",
     "output_type": "stream",
     "text": [
      "C:\\Users/dell/yolov5\\models\\common.py:345: FutureWarning: `torch.cuda.amp.autocast(args...)` is deprecated. Please use `torch.amp.autocast('cuda', args...)` instead.\n",
      "  with amp.autocast(enabled=p.device.type != 'cpu'):\n"
     ]
    },
    {
     "name": "stdout",
     "output_type": "stream",
     "text": [
      "Image sauvegardée : C:/Users/dell/Downloads/test/outputs\\frame_313_jpg.rf.bc3bf6bf374150af0838e228ade0085d.jpg\n"
     ]
    },
    {
     "name": "stderr",
     "output_type": "stream",
     "text": [
      "C:\\Users/dell/yolov5\\models\\common.py:345: FutureWarning: `torch.cuda.amp.autocast(args...)` is deprecated. Please use `torch.amp.autocast('cuda', args...)` instead.\n",
      "  with amp.autocast(enabled=p.device.type != 'cpu'):\n"
     ]
    },
    {
     "name": "stdout",
     "output_type": "stream",
     "text": [
      "Image sauvegardée : C:/Users/dell/Downloads/test/outputs\\frame_314_jpg.rf.ff1bbca416f3282d37de271587e180e1.jpg\n"
     ]
    },
    {
     "name": "stderr",
     "output_type": "stream",
     "text": [
      "C:\\Users/dell/yolov5\\models\\common.py:345: FutureWarning: `torch.cuda.amp.autocast(args...)` is deprecated. Please use `torch.amp.autocast('cuda', args...)` instead.\n",
      "  with amp.autocast(enabled=p.device.type != 'cpu'):\n"
     ]
    },
    {
     "name": "stdout",
     "output_type": "stream",
     "text": [
      "Image sauvegardée : C:/Users/dell/Downloads/test/outputs\\frame_315_jpg.rf.031305ceb914a2ad5aea0da5baf84afc.jpg\n"
     ]
    },
    {
     "name": "stderr",
     "output_type": "stream",
     "text": [
      "C:\\Users/dell/yolov5\\models\\common.py:345: FutureWarning: `torch.cuda.amp.autocast(args...)` is deprecated. Please use `torch.amp.autocast('cuda', args...)` instead.\n",
      "  with amp.autocast(enabled=p.device.type != 'cpu'):\n"
     ]
    },
    {
     "name": "stdout",
     "output_type": "stream",
     "text": [
      "Image sauvegardée : C:/Users/dell/Downloads/test/outputs\\frame_317_jpg.rf.4aa3eb62a119cff8ccf434b1914e09a3.jpg\n"
     ]
    },
    {
     "name": "stderr",
     "output_type": "stream",
     "text": [
      "C:\\Users/dell/yolov5\\models\\common.py:345: FutureWarning: `torch.cuda.amp.autocast(args...)` is deprecated. Please use `torch.amp.autocast('cuda', args...)` instead.\n",
      "  with amp.autocast(enabled=p.device.type != 'cpu'):\n"
     ]
    },
    {
     "name": "stdout",
     "output_type": "stream",
     "text": [
      "Image sauvegardée : C:/Users/dell/Downloads/test/outputs\\frame_341_jpg.rf.1741a91a215b86098e0fb094d01843ee.jpg\n"
     ]
    },
    {
     "name": "stderr",
     "output_type": "stream",
     "text": [
      "C:\\Users/dell/yolov5\\models\\common.py:345: FutureWarning: `torch.cuda.amp.autocast(args...)` is deprecated. Please use `torch.amp.autocast('cuda', args...)` instead.\n",
      "  with amp.autocast(enabled=p.device.type != 'cpu'):\n"
     ]
    },
    {
     "name": "stdout",
     "output_type": "stream",
     "text": [
      "Image sauvegardée : C:/Users/dell/Downloads/test/outputs\\frame_344_jpg.rf.2458316e2965605796a4011f4dea17f4.jpg\n"
     ]
    },
    {
     "name": "stderr",
     "output_type": "stream",
     "text": [
      "C:\\Users/dell/yolov5\\models\\common.py:345: FutureWarning: `torch.cuda.amp.autocast(args...)` is deprecated. Please use `torch.amp.autocast('cuda', args...)` instead.\n",
      "  with amp.autocast(enabled=p.device.type != 'cpu'):\n"
     ]
    },
    {
     "name": "stdout",
     "output_type": "stream",
     "text": [
      "Image sauvegardée : C:/Users/dell/Downloads/test/outputs\\frame_352_jpg.rf.fbaffd2e9d115009d3777a664266ffbf.jpg\n"
     ]
    },
    {
     "name": "stderr",
     "output_type": "stream",
     "text": [
      "C:\\Users/dell/yolov5\\models\\common.py:345: FutureWarning: `torch.cuda.amp.autocast(args...)` is deprecated. Please use `torch.amp.autocast('cuda', args...)` instead.\n",
      "  with amp.autocast(enabled=p.device.type != 'cpu'):\n"
     ]
    },
    {
     "name": "stdout",
     "output_type": "stream",
     "text": [
      "Image sauvegardée : C:/Users/dell/Downloads/test/outputs\\frame_363_jpg.rf.41ad8e09571a54b6a9bf71a3b84d8a5e.jpg\n"
     ]
    },
    {
     "name": "stderr",
     "output_type": "stream",
     "text": [
      "C:\\Users/dell/yolov5\\models\\common.py:345: FutureWarning: `torch.cuda.amp.autocast(args...)` is deprecated. Please use `torch.amp.autocast('cuda', args...)` instead.\n",
      "  with amp.autocast(enabled=p.device.type != 'cpu'):\n"
     ]
    },
    {
     "name": "stdout",
     "output_type": "stream",
     "text": [
      "Image sauvegardée : C:/Users/dell/Downloads/test/outputs\\frame_400_jpg.rf.64e02329384b1457f0d91ec2a655f4e2.jpg\n"
     ]
    },
    {
     "name": "stderr",
     "output_type": "stream",
     "text": [
      "C:\\Users/dell/yolov5\\models\\common.py:345: FutureWarning: `torch.cuda.amp.autocast(args...)` is deprecated. Please use `torch.amp.autocast('cuda', args...)` instead.\n",
      "  with amp.autocast(enabled=p.device.type != 'cpu'):\n"
     ]
    },
    {
     "name": "stdout",
     "output_type": "stream",
     "text": [
      "Image sauvegardée : C:/Users/dell/Downloads/test/outputs\\frame_401_jpg.rf.350590594e57d0fb693280b928331e61.jpg\n"
     ]
    },
    {
     "name": "stderr",
     "output_type": "stream",
     "text": [
      "C:\\Users/dell/yolov5\\models\\common.py:345: FutureWarning: `torch.cuda.amp.autocast(args...)` is deprecated. Please use `torch.amp.autocast('cuda', args...)` instead.\n",
      "  with amp.autocast(enabled=p.device.type != 'cpu'):\n"
     ]
    },
    {
     "name": "stdout",
     "output_type": "stream",
     "text": [
      "Image sauvegardée : C:/Users/dell/Downloads/test/outputs\\frame_402_jpg.rf.14fe272151f3b5ce769250d5007d3498.jpg\n"
     ]
    },
    {
     "name": "stderr",
     "output_type": "stream",
     "text": [
      "C:\\Users/dell/yolov5\\models\\common.py:345: FutureWarning: `torch.cuda.amp.autocast(args...)` is deprecated. Please use `torch.amp.autocast('cuda', args...)` instead.\n",
      "  with amp.autocast(enabled=p.device.type != 'cpu'):\n"
     ]
    },
    {
     "name": "stdout",
     "output_type": "stream",
     "text": [
      "Image sauvegardée : C:/Users/dell/Downloads/test/outputs\\frame_403_jpg.rf.d3b2ef2a2849fa4f9713164dd63b6faf.jpg\n"
     ]
    },
    {
     "name": "stderr",
     "output_type": "stream",
     "text": [
      "C:\\Users/dell/yolov5\\models\\common.py:345: FutureWarning: `torch.cuda.amp.autocast(args...)` is deprecated. Please use `torch.amp.autocast('cuda', args...)` instead.\n",
      "  with amp.autocast(enabled=p.device.type != 'cpu'):\n"
     ]
    },
    {
     "name": "stdout",
     "output_type": "stream",
     "text": [
      "Image sauvegardée : C:/Users/dell/Downloads/test/outputs\\frame_404_jpg.rf.b1ba80daad6819b2815e7135bbd23f45.jpg\n"
     ]
    },
    {
     "name": "stderr",
     "output_type": "stream",
     "text": [
      "C:\\Users/dell/yolov5\\models\\common.py:345: FutureWarning: `torch.cuda.amp.autocast(args...)` is deprecated. Please use `torch.amp.autocast('cuda', args...)` instead.\n",
      "  with amp.autocast(enabled=p.device.type != 'cpu'):\n"
     ]
    },
    {
     "name": "stdout",
     "output_type": "stream",
     "text": [
      "Image sauvegardée : C:/Users/dell/Downloads/test/outputs\\frame_435_jpg.rf.55d49e8208fb5d4f2c24ea3af3f2b766.jpg\n"
     ]
    },
    {
     "name": "stderr",
     "output_type": "stream",
     "text": [
      "C:\\Users/dell/yolov5\\models\\common.py:345: FutureWarning: `torch.cuda.amp.autocast(args...)` is deprecated. Please use `torch.amp.autocast('cuda', args...)` instead.\n",
      "  with amp.autocast(enabled=p.device.type != 'cpu'):\n"
     ]
    },
    {
     "name": "stdout",
     "output_type": "stream",
     "text": [
      "Image sauvegardée : C:/Users/dell/Downloads/test/outputs\\frame_461_jpg.rf.6ac81d79d497dc298cb1de5ca94729ef.jpg\n"
     ]
    },
    {
     "name": "stderr",
     "output_type": "stream",
     "text": [
      "C:\\Users/dell/yolov5\\models\\common.py:345: FutureWarning: `torch.cuda.amp.autocast(args...)` is deprecated. Please use `torch.amp.autocast('cuda', args...)` instead.\n",
      "  with amp.autocast(enabled=p.device.type != 'cpu'):\n"
     ]
    },
    {
     "name": "stdout",
     "output_type": "stream",
     "text": [
      "Image sauvegardée : C:/Users/dell/Downloads/test/outputs\\frame_469_jpg.rf.75147b6ad75f150125470aabc6b3dc69.jpg\n"
     ]
    },
    {
     "name": "stderr",
     "output_type": "stream",
     "text": [
      "C:\\Users/dell/yolov5\\models\\common.py:345: FutureWarning: `torch.cuda.amp.autocast(args...)` is deprecated. Please use `torch.amp.autocast('cuda', args...)` instead.\n",
      "  with amp.autocast(enabled=p.device.type != 'cpu'):\n"
     ]
    },
    {
     "name": "stdout",
     "output_type": "stream",
     "text": [
      "Image sauvegardée : C:/Users/dell/Downloads/test/outputs\\frame_472_jpg.rf.80b54170d3a04ae3286ba8acc384c0bf.jpg\n"
     ]
    },
    {
     "name": "stderr",
     "output_type": "stream",
     "text": [
      "C:\\Users/dell/yolov5\\models\\common.py:345: FutureWarning: `torch.cuda.amp.autocast(args...)` is deprecated. Please use `torch.amp.autocast('cuda', args...)` instead.\n",
      "  with amp.autocast(enabled=p.device.type != 'cpu'):\n"
     ]
    },
    {
     "name": "stdout",
     "output_type": "stream",
     "text": [
      "Image sauvegardée : C:/Users/dell/Downloads/test/outputs\\frame_586_jpg.rf.f49d7d46cc04ecc90a9473b1a67553aa.jpg\n"
     ]
    },
    {
     "name": "stderr",
     "output_type": "stream",
     "text": [
      "C:\\Users/dell/yolov5\\models\\common.py:345: FutureWarning: `torch.cuda.amp.autocast(args...)` is deprecated. Please use `torch.amp.autocast('cuda', args...)` instead.\n",
      "  with amp.autocast(enabled=p.device.type != 'cpu'):\n"
     ]
    },
    {
     "name": "stdout",
     "output_type": "stream",
     "text": [
      "Image sauvegardée : C:/Users/dell/Downloads/test/outputs\\frame_592_jpg.rf.30bc0160e9fdcc348b19cf756cccfdfd.jpg\n"
     ]
    },
    {
     "name": "stderr",
     "output_type": "stream",
     "text": [
      "C:\\Users/dell/yolov5\\models\\common.py:345: FutureWarning: `torch.cuda.amp.autocast(args...)` is deprecated. Please use `torch.amp.autocast('cuda', args...)` instead.\n",
      "  with amp.autocast(enabled=p.device.type != 'cpu'):\n"
     ]
    },
    {
     "name": "stdout",
     "output_type": "stream",
     "text": [
      "Image sauvegardée : C:/Users/dell/Downloads/test/outputs\\frame_674_jpg.rf.fa30f2b6540c2465df16000b176f83d7.jpg\n"
     ]
    },
    {
     "name": "stderr",
     "output_type": "stream",
     "text": [
      "C:\\Users/dell/yolov5\\models\\common.py:345: FutureWarning: `torch.cuda.amp.autocast(args...)` is deprecated. Please use `torch.amp.autocast('cuda', args...)` instead.\n",
      "  with amp.autocast(enabled=p.device.type != 'cpu'):\n"
     ]
    },
    {
     "name": "stdout",
     "output_type": "stream",
     "text": [
      "Image sauvegardée : C:/Users/dell/Downloads/test/outputs\\frame_690_jpg.rf.4d36fbf1929e331dcae13a0825625298.jpg\n"
     ]
    },
    {
     "name": "stderr",
     "output_type": "stream",
     "text": [
      "C:\\Users/dell/yolov5\\models\\common.py:345: FutureWarning: `torch.cuda.amp.autocast(args...)` is deprecated. Please use `torch.amp.autocast('cuda', args...)` instead.\n",
      "  with amp.autocast(enabled=p.device.type != 'cpu'):\n"
     ]
    },
    {
     "name": "stdout",
     "output_type": "stream",
     "text": [
      "Image sauvegardée : C:/Users/dell/Downloads/test/outputs\\frame_786_jpg.rf.4b87c1205a1f1785b1c3539e872d19bb.jpg\n"
     ]
    },
    {
     "name": "stderr",
     "output_type": "stream",
     "text": [
      "C:\\Users/dell/yolov5\\models\\common.py:345: FutureWarning: `torch.cuda.amp.autocast(args...)` is deprecated. Please use `torch.amp.autocast('cuda', args...)` instead.\n",
      "  with amp.autocast(enabled=p.device.type != 'cpu'):\n"
     ]
    },
    {
     "name": "stdout",
     "output_type": "stream",
     "text": [
      "Image sauvegardée : C:/Users/dell/Downloads/test/outputs\\frame_790_jpg.rf.cea292b9534c25dc7b99cf267f55cbe1.jpg\n"
     ]
    },
    {
     "name": "stderr",
     "output_type": "stream",
     "text": [
      "C:\\Users/dell/yolov5\\models\\common.py:345: FutureWarning: `torch.cuda.amp.autocast(args...)` is deprecated. Please use `torch.amp.autocast('cuda', args...)` instead.\n",
      "  with amp.autocast(enabled=p.device.type != 'cpu'):\n"
     ]
    },
    {
     "name": "stdout",
     "output_type": "stream",
     "text": [
      "Image sauvegardée : C:/Users/dell/Downloads/test/outputs\\rgb_0075_png.rf.4367f653579370c5029c6f6771cb7c0b.jpg\n"
     ]
    },
    {
     "name": "stderr",
     "output_type": "stream",
     "text": [
      "C:\\Users/dell/yolov5\\models\\common.py:345: FutureWarning: `torch.cuda.amp.autocast(args...)` is deprecated. Please use `torch.amp.autocast('cuda', args...)` instead.\n",
      "  with amp.autocast(enabled=p.device.type != 'cpu'):\n"
     ]
    },
    {
     "name": "stdout",
     "output_type": "stream",
     "text": [
      "Image sauvegardée : C:/Users/dell/Downloads/test/outputs\\rgb_0092_png.rf.16caf293d81e65b7e602261fe2d2c096.jpg\n"
     ]
    },
    {
     "name": "stderr",
     "output_type": "stream",
     "text": [
      "C:\\Users/dell/yolov5\\models\\common.py:345: FutureWarning: `torch.cuda.amp.autocast(args...)` is deprecated. Please use `torch.amp.autocast('cuda', args...)` instead.\n",
      "  with amp.autocast(enabled=p.device.type != 'cpu'):\n"
     ]
    },
    {
     "name": "stdout",
     "output_type": "stream",
     "text": [
      "Image sauvegardée : C:/Users/dell/Downloads/test/outputs\\rgb_0137_png.rf.3086d761a2d235939a1305f6f5989c80.jpg\n"
     ]
    },
    {
     "name": "stderr",
     "output_type": "stream",
     "text": [
      "C:\\Users/dell/yolov5\\models\\common.py:345: FutureWarning: `torch.cuda.amp.autocast(args...)` is deprecated. Please use `torch.amp.autocast('cuda', args...)` instead.\n",
      "  with amp.autocast(enabled=p.device.type != 'cpu'):\n"
     ]
    },
    {
     "name": "stdout",
     "output_type": "stream",
     "text": [
      "Image sauvegardée : C:/Users/dell/Downloads/test/outputs\\rgb_0153_png.rf.9f89b24ffaf31c3ea5db64dbdd567c0e.jpg\n"
     ]
    },
    {
     "name": "stderr",
     "output_type": "stream",
     "text": [
      "C:\\Users/dell/yolov5\\models\\common.py:345: FutureWarning: `torch.cuda.amp.autocast(args...)` is deprecated. Please use `torch.amp.autocast('cuda', args...)` instead.\n",
      "  with amp.autocast(enabled=p.device.type != 'cpu'):\n"
     ]
    },
    {
     "name": "stdout",
     "output_type": "stream",
     "text": [
      "Image sauvegardée : C:/Users/dell/Downloads/test/outputs\\rgb_0162_png.rf.cea12069002264b60e0a1555babb508e.jpg\n"
     ]
    },
    {
     "name": "stderr",
     "output_type": "stream",
     "text": [
      "C:\\Users/dell/yolov5\\models\\common.py:345: FutureWarning: `torch.cuda.amp.autocast(args...)` is deprecated. Please use `torch.amp.autocast('cuda', args...)` instead.\n",
      "  with amp.autocast(enabled=p.device.type != 'cpu'):\n"
     ]
    },
    {
     "name": "stdout",
     "output_type": "stream",
     "text": [
      "Image sauvegardée : C:/Users/dell/Downloads/test/outputs\\rgb_0172_png.rf.1f02296942a56add0a31d966165ed3ff.jpg\n"
     ]
    },
    {
     "name": "stderr",
     "output_type": "stream",
     "text": [
      "C:\\Users/dell/yolov5\\models\\common.py:345: FutureWarning: `torch.cuda.amp.autocast(args...)` is deprecated. Please use `torch.amp.autocast('cuda', args...)` instead.\n",
      "  with amp.autocast(enabled=p.device.type != 'cpu'):\n"
     ]
    },
    {
     "name": "stdout",
     "output_type": "stream",
     "text": [
      "Image sauvegardée : C:/Users/dell/Downloads/test/outputs\\rgb_0184_png.rf.7a2339096a0f228daf9ca487f2986fa2.jpg\n"
     ]
    },
    {
     "name": "stderr",
     "output_type": "stream",
     "text": [
      "C:\\Users/dell/yolov5\\models\\common.py:345: FutureWarning: `torch.cuda.amp.autocast(args...)` is deprecated. Please use `torch.amp.autocast('cuda', args...)` instead.\n",
      "  with amp.autocast(enabled=p.device.type != 'cpu'):\n"
     ]
    },
    {
     "name": "stdout",
     "output_type": "stream",
     "text": [
      "Image sauvegardée : C:/Users/dell/Downloads/test/outputs\\rgb_0186_png.rf.00146fe3ce65824793a99701a840c1ea.jpg\n"
     ]
    },
    {
     "name": "stderr",
     "output_type": "stream",
     "text": [
      "C:\\Users/dell/yolov5\\models\\common.py:345: FutureWarning: `torch.cuda.amp.autocast(args...)` is deprecated. Please use `torch.amp.autocast('cuda', args...)` instead.\n",
      "  with amp.autocast(enabled=p.device.type != 'cpu'):\n"
     ]
    },
    {
     "name": "stdout",
     "output_type": "stream",
     "text": [
      "Image sauvegardée : C:/Users/dell/Downloads/test/outputs\\rgb_0240_png.rf.bf0dc3afe48946b3e688fadb5a4be919.jpg\n"
     ]
    },
    {
     "name": "stderr",
     "output_type": "stream",
     "text": [
      "C:\\Users/dell/yolov5\\models\\common.py:345: FutureWarning: `torch.cuda.amp.autocast(args...)` is deprecated. Please use `torch.amp.autocast('cuda', args...)` instead.\n",
      "  with amp.autocast(enabled=p.device.type != 'cpu'):\n"
     ]
    },
    {
     "name": "stdout",
     "output_type": "stream",
     "text": [
      "Image sauvegardée : C:/Users/dell/Downloads/test/outputs\\rgb_0379_png.rf.47135c107c4982fc718ccfbaaedb5920.jpg\n"
     ]
    },
    {
     "name": "stderr",
     "output_type": "stream",
     "text": [
      "C:\\Users/dell/yolov5\\models\\common.py:345: FutureWarning: `torch.cuda.amp.autocast(args...)` is deprecated. Please use `torch.amp.autocast('cuda', args...)` instead.\n",
      "  with amp.autocast(enabled=p.device.type != 'cpu'):\n"
     ]
    },
    {
     "name": "stdout",
     "output_type": "stream",
     "text": [
      "Image sauvegardée : C:/Users/dell/Downloads/test/outputs\\rgb_0390_png.rf.4453f78c2f7f4bb63e1db0ad36967fc9.jpg\n"
     ]
    },
    {
     "name": "stderr",
     "output_type": "stream",
     "text": [
      "C:\\Users/dell/yolov5\\models\\common.py:345: FutureWarning: `torch.cuda.amp.autocast(args...)` is deprecated. Please use `torch.amp.autocast('cuda', args...)` instead.\n",
      "  with amp.autocast(enabled=p.device.type != 'cpu'):\n"
     ]
    },
    {
     "name": "stdout",
     "output_type": "stream",
     "text": [
      "Image sauvegardée : C:/Users/dell/Downloads/test/outputs\\rgb_0446_png.rf.824b958adc3b450c4201f141efacdd2b.jpg\n"
     ]
    },
    {
     "name": "stderr",
     "output_type": "stream",
     "text": [
      "C:\\Users/dell/yolov5\\models\\common.py:345: FutureWarning: `torch.cuda.amp.autocast(args...)` is deprecated. Please use `torch.amp.autocast('cuda', args...)` instead.\n",
      "  with amp.autocast(enabled=p.device.type != 'cpu'):\n"
     ]
    },
    {
     "name": "stdout",
     "output_type": "stream",
     "text": [
      "Image sauvegardée : C:/Users/dell/Downloads/test/outputs\\rgb_0453_png.rf.f1dd960d77f42e0db046660481122981.jpg\n"
     ]
    },
    {
     "name": "stderr",
     "output_type": "stream",
     "text": [
      "C:\\Users/dell/yolov5\\models\\common.py:345: FutureWarning: `torch.cuda.amp.autocast(args...)` is deprecated. Please use `torch.amp.autocast('cuda', args...)` instead.\n",
      "  with amp.autocast(enabled=p.device.type != 'cpu'):\n"
     ]
    },
    {
     "name": "stdout",
     "output_type": "stream",
     "text": [
      "Image sauvegardée : C:/Users/dell/Downloads/test/outputs\\rgb_0454_png.rf.c03b1f6592aff9ad38443baffe12d309.jpg\n"
     ]
    },
    {
     "name": "stderr",
     "output_type": "stream",
     "text": [
      "C:\\Users/dell/yolov5\\models\\common.py:345: FutureWarning: `torch.cuda.amp.autocast(args...)` is deprecated. Please use `torch.amp.autocast('cuda', args...)` instead.\n",
      "  with amp.autocast(enabled=p.device.type != 'cpu'):\n"
     ]
    },
    {
     "name": "stdout",
     "output_type": "stream",
     "text": [
      "Image sauvegardée : C:/Users/dell/Downloads/test/outputs\\rgb_0459_png.rf.40fe7c6ab753e2678335044201991a5f.jpg\n"
     ]
    },
    {
     "name": "stderr",
     "output_type": "stream",
     "text": [
      "C:\\Users/dell/yolov5\\models\\common.py:345: FutureWarning: `torch.cuda.amp.autocast(args...)` is deprecated. Please use `torch.amp.autocast('cuda', args...)` instead.\n",
      "  with amp.autocast(enabled=p.device.type != 'cpu'):\n"
     ]
    },
    {
     "name": "stdout",
     "output_type": "stream",
     "text": [
      "Image sauvegardée : C:/Users/dell/Downloads/test/outputs\\rgb_0470_png.rf.24f444480656931e4104477454c3bce9.jpg\n"
     ]
    },
    {
     "name": "stderr",
     "output_type": "stream",
     "text": [
      "C:\\Users/dell/yolov5\\models\\common.py:345: FutureWarning: `torch.cuda.amp.autocast(args...)` is deprecated. Please use `torch.amp.autocast('cuda', args...)` instead.\n",
      "  with amp.autocast(enabled=p.device.type != 'cpu'):\n"
     ]
    },
    {
     "name": "stdout",
     "output_type": "stream",
     "text": [
      "Image sauvegardée : C:/Users/dell/Downloads/test/outputs\\rgb_0473_png.rf.2295eff7b3f9fdf7eb41eb05ecda9759.jpg\n"
     ]
    },
    {
     "name": "stderr",
     "output_type": "stream",
     "text": [
      "C:\\Users/dell/yolov5\\models\\common.py:345: FutureWarning: `torch.cuda.amp.autocast(args...)` is deprecated. Please use `torch.amp.autocast('cuda', args...)` instead.\n",
      "  with amp.autocast(enabled=p.device.type != 'cpu'):\n"
     ]
    },
    {
     "name": "stdout",
     "output_type": "stream",
     "text": [
      "Image sauvegardée : C:/Users/dell/Downloads/test/outputs\\rgb_0474_png.rf.1598be8fb8f259ac93e9b827b64f749a.jpg\n"
     ]
    },
    {
     "name": "stderr",
     "output_type": "stream",
     "text": [
      "C:\\Users/dell/yolov5\\models\\common.py:345: FutureWarning: `torch.cuda.amp.autocast(args...)` is deprecated. Please use `torch.amp.autocast('cuda', args...)` instead.\n",
      "  with amp.autocast(enabled=p.device.type != 'cpu'):\n"
     ]
    },
    {
     "name": "stdout",
     "output_type": "stream",
     "text": [
      "Image sauvegardée : C:/Users/dell/Downloads/test/outputs\\rgb_0475_png.rf.5c2db4a27d2ba3d5a93a10fbe704bce8.jpg\n"
     ]
    },
    {
     "name": "stderr",
     "output_type": "stream",
     "text": [
      "C:\\Users/dell/yolov5\\models\\common.py:345: FutureWarning: `torch.cuda.amp.autocast(args...)` is deprecated. Please use `torch.amp.autocast('cuda', args...)` instead.\n",
      "  with amp.autocast(enabled=p.device.type != 'cpu'):\n"
     ]
    },
    {
     "name": "stdout",
     "output_type": "stream",
     "text": [
      "Image sauvegardée : C:/Users/dell/Downloads/test/outputs\\rgb_1409_png.rf.16fb6700e91129b1d76eec68f5d9fe4b.jpg\n"
     ]
    },
    {
     "name": "stderr",
     "output_type": "stream",
     "text": [
      "C:\\Users/dell/yolov5\\models\\common.py:345: FutureWarning: `torch.cuda.amp.autocast(args...)` is deprecated. Please use `torch.amp.autocast('cuda', args...)` instead.\n",
      "  with amp.autocast(enabled=p.device.type != 'cpu'):\n"
     ]
    },
    {
     "name": "stdout",
     "output_type": "stream",
     "text": [
      "Image sauvegardée : C:/Users/dell/Downloads/test/outputs\\rgb_1421_png.rf.c6235e04ba30449708bee5d4dd7f56d1.jpg\n"
     ]
    },
    {
     "name": "stderr",
     "output_type": "stream",
     "text": [
      "C:\\Users/dell/yolov5\\models\\common.py:345: FutureWarning: `torch.cuda.amp.autocast(args...)` is deprecated. Please use `torch.amp.autocast('cuda', args...)` instead.\n",
      "  with amp.autocast(enabled=p.device.type != 'cpu'):\n"
     ]
    },
    {
     "name": "stdout",
     "output_type": "stream",
     "text": [
      "Image sauvegardée : C:/Users/dell/Downloads/test/outputs\\rgb_1425_png.rf.60ffa12b59f6bd81c12c91168694b43c.jpg\n"
     ]
    },
    {
     "name": "stderr",
     "output_type": "stream",
     "text": [
      "C:\\Users/dell/yolov5\\models\\common.py:345: FutureWarning: `torch.cuda.amp.autocast(args...)` is deprecated. Please use `torch.amp.autocast('cuda', args...)` instead.\n",
      "  with amp.autocast(enabled=p.device.type != 'cpu'):\n"
     ]
    },
    {
     "name": "stdout",
     "output_type": "stream",
     "text": [
      "Image sauvegardée : C:/Users/dell/Downloads/test/outputs\\rgb_1436_png.rf.9e8bba78a4887c97fac3b8a68297dde7.jpg\n"
     ]
    },
    {
     "name": "stderr",
     "output_type": "stream",
     "text": [
      "C:\\Users/dell/yolov5\\models\\common.py:345: FutureWarning: `torch.cuda.amp.autocast(args...)` is deprecated. Please use `torch.amp.autocast('cuda', args...)` instead.\n",
      "  with amp.autocast(enabled=p.device.type != 'cpu'):\n"
     ]
    },
    {
     "name": "stdout",
     "output_type": "stream",
     "text": [
      "Image sauvegardée : C:/Users/dell/Downloads/test/outputs\\rgb_1444_png.rf.71ba465a56b1884c5f18fd7fd5379feb.jpg\n"
     ]
    },
    {
     "name": "stderr",
     "output_type": "stream",
     "text": [
      "C:\\Users/dell/yolov5\\models\\common.py:345: FutureWarning: `torch.cuda.amp.autocast(args...)` is deprecated. Please use `torch.amp.autocast('cuda', args...)` instead.\n",
      "  with amp.autocast(enabled=p.device.type != 'cpu'):\n"
     ]
    },
    {
     "name": "stdout",
     "output_type": "stream",
     "text": [
      "Image sauvegardée : C:/Users/dell/Downloads/test/outputs\\rgb_1445_png.rf.6aa6986b0b8609b7c5de647423dbb1dd.jpg\n"
     ]
    },
    {
     "name": "stderr",
     "output_type": "stream",
     "text": [
      "C:\\Users/dell/yolov5\\models\\common.py:345: FutureWarning: `torch.cuda.amp.autocast(args...)` is deprecated. Please use `torch.amp.autocast('cuda', args...)` instead.\n",
      "  with amp.autocast(enabled=p.device.type != 'cpu'):\n"
     ]
    },
    {
     "name": "stdout",
     "output_type": "stream",
     "text": [
      "Image sauvegardée : C:/Users/dell/Downloads/test/outputs\\rgb_1459_png.rf.cbc4cb2db0fcf6756a2d01f11b09c02d.jpg\n"
     ]
    },
    {
     "name": "stderr",
     "output_type": "stream",
     "text": [
      "C:\\Users/dell/yolov5\\models\\common.py:345: FutureWarning: `torch.cuda.amp.autocast(args...)` is deprecated. Please use `torch.amp.autocast('cuda', args...)` instead.\n",
      "  with amp.autocast(enabled=p.device.type != 'cpu'):\n"
     ]
    },
    {
     "name": "stdout",
     "output_type": "stream",
     "text": [
      "Image sauvegardée : C:/Users/dell/Downloads/test/outputs\\rgb_1468_png.rf.4aad716f190b77e2acc364a8ae85c53d.jpg\n"
     ]
    },
    {
     "name": "stderr",
     "output_type": "stream",
     "text": [
      "C:\\Users/dell/yolov5\\models\\common.py:345: FutureWarning: `torch.cuda.amp.autocast(args...)` is deprecated. Please use `torch.amp.autocast('cuda', args...)` instead.\n",
      "  with amp.autocast(enabled=p.device.type != 'cpu'):\n"
     ]
    },
    {
     "name": "stdout",
     "output_type": "stream",
     "text": [
      "Image sauvegardée : C:/Users/dell/Downloads/test/outputs\\rgb_1484_png.rf.9ec21f1d76715cd812db8c73c6193f4d.jpg\n"
     ]
    },
    {
     "name": "stderr",
     "output_type": "stream",
     "text": [
      "C:\\Users/dell/yolov5\\models\\common.py:345: FutureWarning: `torch.cuda.amp.autocast(args...)` is deprecated. Please use `torch.amp.autocast('cuda', args...)` instead.\n",
      "  with amp.autocast(enabled=p.device.type != 'cpu'):\n"
     ]
    },
    {
     "name": "stdout",
     "output_type": "stream",
     "text": [
      "Image sauvegardée : C:/Users/dell/Downloads/test/outputs\\rgb_1491_png.rf.3357fb40a53f8ffb48e167c0bb879401.jpg\n"
     ]
    },
    {
     "name": "stderr",
     "output_type": "stream",
     "text": [
      "C:\\Users/dell/yolov5\\models\\common.py:345: FutureWarning: `torch.cuda.amp.autocast(args...)` is deprecated. Please use `torch.amp.autocast('cuda', args...)` instead.\n",
      "  with amp.autocast(enabled=p.device.type != 'cpu'):\n"
     ]
    },
    {
     "name": "stdout",
     "output_type": "stream",
     "text": [
      "Image sauvegardée : C:/Users/dell/Downloads/test/outputs\\rgb_2477_png.rf.4e2a31e7a3fc460809ea2e4b323860c0.jpg\n"
     ]
    },
    {
     "name": "stderr",
     "output_type": "stream",
     "text": [
      "C:\\Users/dell/yolov5\\models\\common.py:345: FutureWarning: `torch.cuda.amp.autocast(args...)` is deprecated. Please use `torch.amp.autocast('cuda', args...)` instead.\n",
      "  with amp.autocast(enabled=p.device.type != 'cpu'):\n"
     ]
    },
    {
     "name": "stdout",
     "output_type": "stream",
     "text": [
      "Image sauvegardée : C:/Users/dell/Downloads/test/outputs\\rgb_2501_png.rf.ef27169f4ad758af7759824511a6e5bf.jpg\n"
     ]
    },
    {
     "name": "stderr",
     "output_type": "stream",
     "text": [
      "C:\\Users/dell/yolov5\\models\\common.py:345: FutureWarning: `torch.cuda.amp.autocast(args...)` is deprecated. Please use `torch.amp.autocast('cuda', args...)` instead.\n",
      "  with amp.autocast(enabled=p.device.type != 'cpu'):\n"
     ]
    },
    {
     "name": "stdout",
     "output_type": "stream",
     "text": [
      "Image sauvegardée : C:/Users/dell/Downloads/test/outputs\\rgb_2519_png.rf.1eade555665eb76274ee29344253e96e.jpg\n"
     ]
    },
    {
     "name": "stderr",
     "output_type": "stream",
     "text": [
      "C:\\Users/dell/yolov5\\models\\common.py:345: FutureWarning: `torch.cuda.amp.autocast(args...)` is deprecated. Please use `torch.amp.autocast('cuda', args...)` instead.\n",
      "  with amp.autocast(enabled=p.device.type != 'cpu'):\n"
     ]
    },
    {
     "name": "stdout",
     "output_type": "stream",
     "text": [
      "Image sauvegardée : C:/Users/dell/Downloads/test/outputs\\rgb_2541_png.rf.4fb7e8f552e7e207a9c781dfd87a3d02.jpg\n"
     ]
    },
    {
     "name": "stderr",
     "output_type": "stream",
     "text": [
      "C:\\Users/dell/yolov5\\models\\common.py:345: FutureWarning: `torch.cuda.amp.autocast(args...)` is deprecated. Please use `torch.amp.autocast('cuda', args...)` instead.\n",
      "  with amp.autocast(enabled=p.device.type != 'cpu'):\n"
     ]
    },
    {
     "name": "stdout",
     "output_type": "stream",
     "text": [
      "Image sauvegardée : C:/Users/dell/Downloads/test/outputs\\rgb_2542_png.rf.312867610b1430162497a5a1e6b283eb.jpg\n"
     ]
    },
    {
     "name": "stderr",
     "output_type": "stream",
     "text": [
      "C:\\Users/dell/yolov5\\models\\common.py:345: FutureWarning: `torch.cuda.amp.autocast(args...)` is deprecated. Please use `torch.amp.autocast('cuda', args...)` instead.\n",
      "  with amp.autocast(enabled=p.device.type != 'cpu'):\n"
     ]
    },
    {
     "name": "stdout",
     "output_type": "stream",
     "text": [
      "Image sauvegardée : C:/Users/dell/Downloads/test/outputs\\rgb_2555_png.rf.6964c55c3cbc5e864612582ad3555621.jpg\n"
     ]
    },
    {
     "name": "stderr",
     "output_type": "stream",
     "text": [
      "C:\\Users/dell/yolov5\\models\\common.py:345: FutureWarning: `torch.cuda.amp.autocast(args...)` is deprecated. Please use `torch.amp.autocast('cuda', args...)` instead.\n",
      "  with amp.autocast(enabled=p.device.type != 'cpu'):\n"
     ]
    },
    {
     "name": "stdout",
     "output_type": "stream",
     "text": [
      "Image sauvegardée : C:/Users/dell/Downloads/test/outputs\\rgb_2566_png.rf.68a11105367fae652eec53a80244bd54.jpg\n"
     ]
    },
    {
     "name": "stderr",
     "output_type": "stream",
     "text": [
      "C:\\Users/dell/yolov5\\models\\common.py:345: FutureWarning: `torch.cuda.amp.autocast(args...)` is deprecated. Please use `torch.amp.autocast('cuda', args...)` instead.\n",
      "  with amp.autocast(enabled=p.device.type != 'cpu'):\n"
     ]
    },
    {
     "name": "stdout",
     "output_type": "stream",
     "text": [
      "Image sauvegardée : C:/Users/dell/Downloads/test/outputs\\rgb_2573_png.rf.6cf81679e424f21b76c93dfea81b6098.jpg\n"
     ]
    },
    {
     "name": "stderr",
     "output_type": "stream",
     "text": [
      "C:\\Users/dell/yolov5\\models\\common.py:345: FutureWarning: `torch.cuda.amp.autocast(args...)` is deprecated. Please use `torch.amp.autocast('cuda', args...)` instead.\n",
      "  with amp.autocast(enabled=p.device.type != 'cpu'):\n"
     ]
    },
    {
     "name": "stdout",
     "output_type": "stream",
     "text": [
      "Image sauvegardée : C:/Users/dell/Downloads/test/outputs\\rgb_2575_png.rf.4f2b952776bb3845adf32e1b28aee809.jpg\n"
     ]
    },
    {
     "name": "stderr",
     "output_type": "stream",
     "text": [
      "C:\\Users/dell/yolov5\\models\\common.py:345: FutureWarning: `torch.cuda.amp.autocast(args...)` is deprecated. Please use `torch.amp.autocast('cuda', args...)` instead.\n",
      "  with amp.autocast(enabled=p.device.type != 'cpu'):\n"
     ]
    },
    {
     "name": "stdout",
     "output_type": "stream",
     "text": [
      "Image sauvegardée : C:/Users/dell/Downloads/test/outputs\\rgb_2576_png.rf.5e62998c5e8f05fb904833d63b12f650.jpg\n"
     ]
    },
    {
     "name": "stderr",
     "output_type": "stream",
     "text": [
      "C:\\Users/dell/yolov5\\models\\common.py:345: FutureWarning: `torch.cuda.amp.autocast(args...)` is deprecated. Please use `torch.amp.autocast('cuda', args...)` instead.\n",
      "  with amp.autocast(enabled=p.device.type != 'cpu'):\n"
     ]
    },
    {
     "name": "stdout",
     "output_type": "stream",
     "text": [
      "Image sauvegardée : C:/Users/dell/Downloads/test/outputs\\rgb_2577_png.rf.2d3cfeade55307058c1d98b4eebf6930.jpg\n"
     ]
    },
    {
     "name": "stderr",
     "output_type": "stream",
     "text": [
      "C:\\Users/dell/yolov5\\models\\common.py:345: FutureWarning: `torch.cuda.amp.autocast(args...)` is deprecated. Please use `torch.amp.autocast('cuda', args...)` instead.\n",
      "  with amp.autocast(enabled=p.device.type != 'cpu'):\n"
     ]
    },
    {
     "name": "stdout",
     "output_type": "stream",
     "text": [
      "Image sauvegardée : C:/Users/dell/Downloads/test/outputs\\rgb_3102_png.rf.d93785dc987b4bf56ccf3ebf999ee259.jpg\n"
     ]
    },
    {
     "name": "stderr",
     "output_type": "stream",
     "text": [
      "C:\\Users/dell/yolov5\\models\\common.py:345: FutureWarning: `torch.cuda.amp.autocast(args...)` is deprecated. Please use `torch.amp.autocast('cuda', args...)` instead.\n",
      "  with amp.autocast(enabled=p.device.type != 'cpu'):\n"
     ]
    },
    {
     "name": "stdout",
     "output_type": "stream",
     "text": [
      "Image sauvegardée : C:/Users/dell/Downloads/test/outputs\\rgb_3119_png.rf.7ae846241af55be7b9c743b01b1975c8.jpg\n"
     ]
    },
    {
     "name": "stderr",
     "output_type": "stream",
     "text": [
      "C:\\Users/dell/yolov5\\models\\common.py:345: FutureWarning: `torch.cuda.amp.autocast(args...)` is deprecated. Please use `torch.amp.autocast('cuda', args...)` instead.\n",
      "  with amp.autocast(enabled=p.device.type != 'cpu'):\n"
     ]
    },
    {
     "name": "stdout",
     "output_type": "stream",
     "text": [
      "Image sauvegardée : C:/Users/dell/Downloads/test/outputs\\rgb_3125_png.rf.c3fa1dd2584bd7bb4d30572b96f917bb.jpg\n"
     ]
    },
    {
     "name": "stderr",
     "output_type": "stream",
     "text": [
      "C:\\Users/dell/yolov5\\models\\common.py:345: FutureWarning: `torch.cuda.amp.autocast(args...)` is deprecated. Please use `torch.amp.autocast('cuda', args...)` instead.\n",
      "  with amp.autocast(enabled=p.device.type != 'cpu'):\n"
     ]
    },
    {
     "name": "stdout",
     "output_type": "stream",
     "text": [
      "Image sauvegardée : C:/Users/dell/Downloads/test/outputs\\rgb_3134_png.rf.b9b41f22ee08b47525d7314521a69c4e.jpg\n"
     ]
    },
    {
     "name": "stderr",
     "output_type": "stream",
     "text": [
      "C:\\Users/dell/yolov5\\models\\common.py:345: FutureWarning: `torch.cuda.amp.autocast(args...)` is deprecated. Please use `torch.amp.autocast('cuda', args...)` instead.\n",
      "  with amp.autocast(enabled=p.device.type != 'cpu'):\n"
     ]
    },
    {
     "name": "stdout",
     "output_type": "stream",
     "text": [
      "Image sauvegardée : C:/Users/dell/Downloads/test/outputs\\rgb_3138_png.rf.801c1889759a39896a04b4324cdfa692.jpg\n"
     ]
    },
    {
     "name": "stderr",
     "output_type": "stream",
     "text": [
      "C:\\Users/dell/yolov5\\models\\common.py:345: FutureWarning: `torch.cuda.amp.autocast(args...)` is deprecated. Please use `torch.amp.autocast('cuda', args...)` instead.\n",
      "  with amp.autocast(enabled=p.device.type != 'cpu'):\n"
     ]
    },
    {
     "name": "stdout",
     "output_type": "stream",
     "text": [
      "Image sauvegardée : C:/Users/dell/Downloads/test/outputs\\rgb_3141_png.rf.6668d00ca8f48c872c8e63fcb7c8a61f.jpg\n"
     ]
    },
    {
     "name": "stderr",
     "output_type": "stream",
     "text": [
      "C:\\Users/dell/yolov5\\models\\common.py:345: FutureWarning: `torch.cuda.amp.autocast(args...)` is deprecated. Please use `torch.amp.autocast('cuda', args...)` instead.\n",
      "  with amp.autocast(enabled=p.device.type != 'cpu'):\n"
     ]
    },
    {
     "name": "stdout",
     "output_type": "stream",
     "text": [
      "Image sauvegardée : C:/Users/dell/Downloads/test/outputs\\rgb_3166_png.rf.9b7080ed65ab46327456ace0aae97338.jpg\n"
     ]
    },
    {
     "name": "stderr",
     "output_type": "stream",
     "text": [
      "C:\\Users/dell/yolov5\\models\\common.py:345: FutureWarning: `torch.cuda.amp.autocast(args...)` is deprecated. Please use `torch.amp.autocast('cuda', args...)` instead.\n",
      "  with amp.autocast(enabled=p.device.type != 'cpu'):\n"
     ]
    },
    {
     "name": "stdout",
     "output_type": "stream",
     "text": [
      "Image sauvegardée : C:/Users/dell/Downloads/test/outputs\\rgb_3570_png.rf.74accf42b4bed85c31fce0f10b66c7db.jpg\n"
     ]
    },
    {
     "name": "stderr",
     "output_type": "stream",
     "text": [
      "C:\\Users/dell/yolov5\\models\\common.py:345: FutureWarning: `torch.cuda.amp.autocast(args...)` is deprecated. Please use `torch.amp.autocast('cuda', args...)` instead.\n",
      "  with amp.autocast(enabled=p.device.type != 'cpu'):\n"
     ]
    },
    {
     "name": "stdout",
     "output_type": "stream",
     "text": [
      "Image sauvegardée : C:/Users/dell/Downloads/test/outputs\\rgb_3578_png.rf.693381e092d9d4af813e481c0a2b0490.jpg\n"
     ]
    },
    {
     "name": "stderr",
     "output_type": "stream",
     "text": [
      "C:\\Users/dell/yolov5\\models\\common.py:345: FutureWarning: `torch.cuda.amp.autocast(args...)` is deprecated. Please use `torch.amp.autocast('cuda', args...)` instead.\n",
      "  with amp.autocast(enabled=p.device.type != 'cpu'):\n"
     ]
    },
    {
     "name": "stdout",
     "output_type": "stream",
     "text": [
      "Image sauvegardée : C:/Users/dell/Downloads/test/outputs\\rgb_3597_png.rf.5cb4b14c7fb8fc6957cbd8dd1338d79c.jpg\n"
     ]
    },
    {
     "name": "stderr",
     "output_type": "stream",
     "text": [
      "C:\\Users/dell/yolov5\\models\\common.py:345: FutureWarning: `torch.cuda.amp.autocast(args...)` is deprecated. Please use `torch.amp.autocast('cuda', args...)` instead.\n",
      "  with amp.autocast(enabled=p.device.type != 'cpu'):\n"
     ]
    },
    {
     "name": "stdout",
     "output_type": "stream",
     "text": [
      "Image sauvegardée : C:/Users/dell/Downloads/test/outputs\\rgb_3605_png.rf.4d39316bb1f9c9d7a008be08f1422d4e.jpg\n"
     ]
    },
    {
     "name": "stderr",
     "output_type": "stream",
     "text": [
      "C:\\Users/dell/yolov5\\models\\common.py:345: FutureWarning: `torch.cuda.amp.autocast(args...)` is deprecated. Please use `torch.amp.autocast('cuda', args...)` instead.\n",
      "  with amp.autocast(enabled=p.device.type != 'cpu'):\n"
     ]
    },
    {
     "name": "stdout",
     "output_type": "stream",
     "text": [
      "Image sauvegardée : C:/Users/dell/Downloads/test/outputs\\rgb_3613_png.rf.820582297a5318316138438d0912fdcb.jpg\n"
     ]
    }
   ],
   "source": [
    "import os\n",
    "import cv2\n",
    "import torch\n",
    "import matplotlib.pyplot as plt\n",
    "\n",
    "# Charger le modèle\n",
    "model_path = r'C:/Users/dell/yolov5/models/best.pt'\n",
    "model = torch.hub.load(r'C:/Users/dell/yolov5', 'custom', path=model_path, source='local')\n",
    "model.eval()\n",
    "\n",
    "# Dossier d’images à analyser\n",
    "image_folder = r'C:/Users/dell/Downloads/test/images'\n",
    "output_folder = r'C:/Users/dell/Downloads/test/outputs'  # Dossier où les images annotées seront sauvegardées\n",
    "\n",
    "# Créer le dossier de sortie s'il n'existe pas\n",
    "os.makedirs(output_folder, exist_ok=True)\n",
    "\n",
    "# Récupérer la liste des fichiers images (formats courants)\n",
    "image_files = [f for f in os.listdir(image_folder) if f.lower().endswith(('.jpg', '.jpeg', '.png'))]\n",
    "\n",
    "# Vérifier qu’il y a des images\n",
    "if not image_files:\n",
    "    print(\"Aucune image trouvée dans le dossier.\")\n",
    "else:\n",
    "    for file in image_files:\n",
    "        image_path = os.path.join(image_folder, file)\n",
    "        img = cv2.imread(image_path)\n",
    "\n",
    "        if img is None:\n",
    "            print(f\"Impossible de lire {file}\")\n",
    "            continue\n",
    "\n",
    "        # Inference YOLOv5\n",
    "        results = model(img)\n",
    "\n",
    "        # Annoter l'image\n",
    "        annotated_img = results.render()[0]\n",
    "\n",
    "        # Sauvegarder l'image annotée\n",
    "        output_image_path = os.path.join(output_folder, file)\n",
    "        cv2.imwrite(output_image_path, annotated_img)\n",
    "        print(f\"Image sauvegardée : {output_image_path}\")\n"
   ]
  },
  {
   "cell_type": "code",
   "execution_count": null,
   "id": "fb7c9ccf-a97a-4c02-8eb6-4fff6f6d6851",
   "metadata": {},
   "outputs": [],
   "source": []
  }
 ],
 "metadata": {
  "kernelspec": {
   "display_name": "Python 3 (ipykernel)",
   "language": "python",
   "name": "python3"
  },
  "language_info": {
   "codemirror_mode": {
    "name": "ipython",
    "version": 3
   },
   "file_extension": ".py",
   "mimetype": "text/x-python",
   "name": "python",
   "nbconvert_exporter": "python",
   "pygments_lexer": "ipython3",
   "version": "3.8.20"
  }
 },
 "nbformat": 4,
 "nbformat_minor": 5
}
